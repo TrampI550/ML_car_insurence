{
  "cells": [
    {
      "cell_type": "markdown",
      "source": [
        "# Обработка датасета"
      ],
      "metadata": {
        "id": "fZQysLc4VH0Y"
      }
    },
    {
      "cell_type": "markdown",
      "source": [
        "## Чтение и описание"
      ],
      "metadata": {
        "id": "-Syp_8TeSPeN"
      }
    },
    {
      "cell_type": "code",
      "execution_count": 1,
      "metadata": {
        "id": "sMvoWHHBsuEA"
      },
      "outputs": [],
      "source": [
        "import pandas as pd\n",
        "import numpy as np\n",
        "import matplotlib.pyplot as plt\n",
        "import seaborn as sns"
      ]
    },
    {
      "cell_type": "code",
      "execution_count": 2,
      "metadata": {
        "colab": {
          "base_uri": "https://localhost:8080/"
        },
        "id": "-pZOT3QXtl74",
        "outputId": "22a57d48-6278-44cc-dd62-17c4315209e5"
      },
      "outputs": [
        {
          "output_type": "stream",
          "name": "stdout",
          "text": [
            "\n",
            "  Число объектов: 10000\n",
            "  Число признаков: 19\n",
            "  \n"
          ]
        }
      ],
      "source": [
        "data_raw = pd.read_csv(\"/content/Car_Insurance_Claim.csv\") # считали базу данных\n",
        "print(f'''\n",
        "  Число объектов: {data_raw.shape[0]}\n",
        "  Число признаков: {data_raw.shape[1]}\n",
        "  ''')"
      ]
    },
    {
      "cell_type": "code",
      "execution_count": 3,
      "metadata": {
        "colab": {
          "base_uri": "https://localhost:8080/",
          "height": 259
        },
        "id": "f0JPBtS9zuUB",
        "outputId": "69a34c0d-dcf2-4a88-9f2d-72e98dd42fec"
      },
      "outputs": [
        {
          "output_type": "execute_result",
          "data": {
            "text/plain": [
              "       ID    AGE  GENDER      RACE DRIVING_EXPERIENCE    EDUCATION  \\\n",
              "0  569520    65+  female  majority               0-9y  high school   \n",
              "1  750365  16-25    male  majority               0-9y         none   \n",
              "2  199901  16-25  female  majority               0-9y  high school   \n",
              "\n",
              "          INCOME  CREDIT_SCORE  VEHICLE_OWNERSHIP VEHICLE_YEAR  MARRIED  \\\n",
              "0    upper class      0.629027                1.0   after 2015      0.0   \n",
              "1        poverty      0.357757                0.0  before 2015      0.0   \n",
              "2  working class      0.493146                1.0  before 2015      0.0   \n",
              "\n",
              "   CHILDREN  POSTAL_CODE  ANNUAL_MILEAGE VEHICLE_TYPE  SPEEDING_VIOLATIONS  \\\n",
              "0       1.0        10238         12000.0        sedan                    0   \n",
              "1       0.0        10238         16000.0        sedan                    0   \n",
              "2       0.0        10238         11000.0        sedan                    0   \n",
              "\n",
              "   DUIS  PAST_ACCIDENTS  OUTCOME  \n",
              "0     0               0      0.0  \n",
              "1     0               0      1.0  \n",
              "2     0               0      0.0  "
            ],
            "text/html": [
              "\n",
              "  <div id=\"df-36829f01-6751-45be-a60a-fae4e9ba413f\">\n",
              "    <div class=\"colab-df-container\">\n",
              "      <div>\n",
              "<style scoped>\n",
              "    .dataframe tbody tr th:only-of-type {\n",
              "        vertical-align: middle;\n",
              "    }\n",
              "\n",
              "    .dataframe tbody tr th {\n",
              "        vertical-align: top;\n",
              "    }\n",
              "\n",
              "    .dataframe thead th {\n",
              "        text-align: right;\n",
              "    }\n",
              "</style>\n",
              "<table border=\"1\" class=\"dataframe\">\n",
              "  <thead>\n",
              "    <tr style=\"text-align: right;\">\n",
              "      <th></th>\n",
              "      <th>ID</th>\n",
              "      <th>AGE</th>\n",
              "      <th>GENDER</th>\n",
              "      <th>RACE</th>\n",
              "      <th>DRIVING_EXPERIENCE</th>\n",
              "      <th>EDUCATION</th>\n",
              "      <th>INCOME</th>\n",
              "      <th>CREDIT_SCORE</th>\n",
              "      <th>VEHICLE_OWNERSHIP</th>\n",
              "      <th>VEHICLE_YEAR</th>\n",
              "      <th>MARRIED</th>\n",
              "      <th>CHILDREN</th>\n",
              "      <th>POSTAL_CODE</th>\n",
              "      <th>ANNUAL_MILEAGE</th>\n",
              "      <th>VEHICLE_TYPE</th>\n",
              "      <th>SPEEDING_VIOLATIONS</th>\n",
              "      <th>DUIS</th>\n",
              "      <th>PAST_ACCIDENTS</th>\n",
              "      <th>OUTCOME</th>\n",
              "    </tr>\n",
              "  </thead>\n",
              "  <tbody>\n",
              "    <tr>\n",
              "      <th>0</th>\n",
              "      <td>569520</td>\n",
              "      <td>65+</td>\n",
              "      <td>female</td>\n",
              "      <td>majority</td>\n",
              "      <td>0-9y</td>\n",
              "      <td>high school</td>\n",
              "      <td>upper class</td>\n",
              "      <td>0.629027</td>\n",
              "      <td>1.0</td>\n",
              "      <td>after 2015</td>\n",
              "      <td>0.0</td>\n",
              "      <td>1.0</td>\n",
              "      <td>10238</td>\n",
              "      <td>12000.0</td>\n",
              "      <td>sedan</td>\n",
              "      <td>0</td>\n",
              "      <td>0</td>\n",
              "      <td>0</td>\n",
              "      <td>0.0</td>\n",
              "    </tr>\n",
              "    <tr>\n",
              "      <th>1</th>\n",
              "      <td>750365</td>\n",
              "      <td>16-25</td>\n",
              "      <td>male</td>\n",
              "      <td>majority</td>\n",
              "      <td>0-9y</td>\n",
              "      <td>none</td>\n",
              "      <td>poverty</td>\n",
              "      <td>0.357757</td>\n",
              "      <td>0.0</td>\n",
              "      <td>before 2015</td>\n",
              "      <td>0.0</td>\n",
              "      <td>0.0</td>\n",
              "      <td>10238</td>\n",
              "      <td>16000.0</td>\n",
              "      <td>sedan</td>\n",
              "      <td>0</td>\n",
              "      <td>0</td>\n",
              "      <td>0</td>\n",
              "      <td>1.0</td>\n",
              "    </tr>\n",
              "    <tr>\n",
              "      <th>2</th>\n",
              "      <td>199901</td>\n",
              "      <td>16-25</td>\n",
              "      <td>female</td>\n",
              "      <td>majority</td>\n",
              "      <td>0-9y</td>\n",
              "      <td>high school</td>\n",
              "      <td>working class</td>\n",
              "      <td>0.493146</td>\n",
              "      <td>1.0</td>\n",
              "      <td>before 2015</td>\n",
              "      <td>0.0</td>\n",
              "      <td>0.0</td>\n",
              "      <td>10238</td>\n",
              "      <td>11000.0</td>\n",
              "      <td>sedan</td>\n",
              "      <td>0</td>\n",
              "      <td>0</td>\n",
              "      <td>0</td>\n",
              "      <td>0.0</td>\n",
              "    </tr>\n",
              "  </tbody>\n",
              "</table>\n",
              "</div>\n",
              "      <button class=\"colab-df-convert\" onclick=\"convertToInteractive('df-36829f01-6751-45be-a60a-fae4e9ba413f')\"\n",
              "              title=\"Convert this dataframe to an interactive table.\"\n",
              "              style=\"display:none;\">\n",
              "        \n",
              "  <svg xmlns=\"http://www.w3.org/2000/svg\" height=\"24px\"viewBox=\"0 0 24 24\"\n",
              "       width=\"24px\">\n",
              "    <path d=\"M0 0h24v24H0V0z\" fill=\"none\"/>\n",
              "    <path d=\"M18.56 5.44l.94 2.06.94-2.06 2.06-.94-2.06-.94-.94-2.06-.94 2.06-2.06.94zm-11 1L8.5 8.5l.94-2.06 2.06-.94-2.06-.94L8.5 2.5l-.94 2.06-2.06.94zm10 10l.94 2.06.94-2.06 2.06-.94-2.06-.94-.94-2.06-.94 2.06-2.06.94z\"/><path d=\"M17.41 7.96l-1.37-1.37c-.4-.4-.92-.59-1.43-.59-.52 0-1.04.2-1.43.59L10.3 9.45l-7.72 7.72c-.78.78-.78 2.05 0 2.83L4 21.41c.39.39.9.59 1.41.59.51 0 1.02-.2 1.41-.59l7.78-7.78 2.81-2.81c.8-.78.8-2.07 0-2.86zM5.41 20L4 18.59l7.72-7.72 1.47 1.35L5.41 20z\"/>\n",
              "  </svg>\n",
              "      </button>\n",
              "      \n",
              "  <style>\n",
              "    .colab-df-container {\n",
              "      display:flex;\n",
              "      flex-wrap:wrap;\n",
              "      gap: 12px;\n",
              "    }\n",
              "\n",
              "    .colab-df-convert {\n",
              "      background-color: #E8F0FE;\n",
              "      border: none;\n",
              "      border-radius: 50%;\n",
              "      cursor: pointer;\n",
              "      display: none;\n",
              "      fill: #1967D2;\n",
              "      height: 32px;\n",
              "      padding: 0 0 0 0;\n",
              "      width: 32px;\n",
              "    }\n",
              "\n",
              "    .colab-df-convert:hover {\n",
              "      background-color: #E2EBFA;\n",
              "      box-shadow: 0px 1px 2px rgba(60, 64, 67, 0.3), 0px 1px 3px 1px rgba(60, 64, 67, 0.15);\n",
              "      fill: #174EA6;\n",
              "    }\n",
              "\n",
              "    [theme=dark] .colab-df-convert {\n",
              "      background-color: #3B4455;\n",
              "      fill: #D2E3FC;\n",
              "    }\n",
              "\n",
              "    [theme=dark] .colab-df-convert:hover {\n",
              "      background-color: #434B5C;\n",
              "      box-shadow: 0px 1px 3px 1px rgba(0, 0, 0, 0.15);\n",
              "      filter: drop-shadow(0px 1px 2px rgba(0, 0, 0, 0.3));\n",
              "      fill: #FFFFFF;\n",
              "    }\n",
              "  </style>\n",
              "\n",
              "      <script>\n",
              "        const buttonEl =\n",
              "          document.querySelector('#df-36829f01-6751-45be-a60a-fae4e9ba413f button.colab-df-convert');\n",
              "        buttonEl.style.display =\n",
              "          google.colab.kernel.accessAllowed ? 'block' : 'none';\n",
              "\n",
              "        async function convertToInteractive(key) {\n",
              "          const element = document.querySelector('#df-36829f01-6751-45be-a60a-fae4e9ba413f');\n",
              "          const dataTable =\n",
              "            await google.colab.kernel.invokeFunction('convertToInteractive',\n",
              "                                                     [key], {});\n",
              "          if (!dataTable) return;\n",
              "\n",
              "          const docLinkHtml = 'Like what you see? Visit the ' +\n",
              "            '<a target=\"_blank\" href=https://colab.research.google.com/notebooks/data_table.ipynb>data table notebook</a>'\n",
              "            + ' to learn more about interactive tables.';\n",
              "          element.innerHTML = '';\n",
              "          dataTable['output_type'] = 'display_data';\n",
              "          await google.colab.output.renderOutput(dataTable, element);\n",
              "          const docLink = document.createElement('div');\n",
              "          docLink.innerHTML = docLinkHtml;\n",
              "          element.appendChild(docLink);\n",
              "        }\n",
              "      </script>\n",
              "    </div>\n",
              "  </div>\n",
              "  "
            ]
          },
          "metadata": {},
          "execution_count": 3
        }
      ],
      "source": [
        "data_raw.head(3)"
      ]
    },
    {
      "cell_type": "markdown",
      "metadata": {
        "id": "3Xybm4w9vjVX"
      },
      "source": [
        "Одна из американских компаний по страховке автомобилей поделилась годовым отчётом с данными касательно их клиентов. Эта таблица содержит информацию о клиентах и о том, произошёл ли страховой случай, то есть пришлось ли компании выплачивать ему энную сумму.\n",
        "Столбцы журнала клиентов имеют следующий вид:\n",
        "\n",
        "*   `ID` - идентификационный номер клиента\n",
        "*   `AGE` - возраст клиента\n",
        "*   `GENDER` - пол клиента (М или Ж, что странно)\n",
        "*   `RACE` - раса клиента (большинство или меньшинство)\n",
        "*   `DRIVING_EXPERIENCE` - водительский стаж (0-9 лет, 10-19 лет и т.д.)\n",
        "*   `EDUCATION` - имеющееся образование клиента\n",
        "*   `INCOME` - принадлежность слою общества (например, рабочий класс)\n",
        "*   `CREDIT_SCORE` - число, характеризующее кредитную способность клиента\n",
        "*   `VEHICLE_OWNERSHIP` - владеет ли транспортным средством, в страховку которого клиент хочет быть включенным\n",
        "*   `VEHICLE_YEAR` - возраст автомобиля (до или после января 2015)\n",
        "*   `MARRIED` - в браке ли клиент\n",
        "*   `CHILDREN` - есть ли дети\n",
        "*   `POSTAL_CODE` - почтовый код\n",
        "*   `ANNUAL_MILEAGE` - годовой пробег автомобиля\n",
        "*   `VEHICLE_TYPE` - тип автотранспорта (седан (болльшего не дано) или спорткар (меньшего не дано))\n",
        "*   `SPEEDING_VIOLATIONS` - сколько раз замечены нарушения скорости\n",
        "*   `DUIS` - сколько раз пойман за рулем в нетрезвом виде\n",
        "*   `PAST_ACCIDENTS` - попаданий в аварии\n",
        "*   `OUTCOME` - произошёл / не произошёл страховой случай\n",
        "\n"
      ]
    },
    {
      "cell_type": "markdown",
      "metadata": {
        "id": "uCPKBVAt8XMH"
      },
      "source": [
        "**Вопрос-цель:** сможет ли машина обучиться достаточно хорошо, чтобы  определять произойдёт ли страховой случай с определённым клиентом?"
      ]
    },
    {
      "cell_type": "markdown",
      "source": [
        "## Пропущенные значения"
      ],
      "metadata": {
        "id": "FXApdV4t5Xy2"
      }
    },
    {
      "cell_type": "markdown",
      "metadata": {
        "id": "koK1s5hDjBAs"
      },
      "source": [
        "Теперь проверим датасет на наличие пропущенных значений:"
      ]
    },
    {
      "cell_type": "code",
      "execution_count": 4,
      "metadata": {
        "colab": {
          "base_uri": "https://localhost:8080/"
        },
        "id": "aD-3PjqsUgJi",
        "outputId": "d7445eb1-62e5-4d2d-a525-0b5c6328b32f"
      },
      "outputs": [
        {
          "output_type": "execute_result",
          "data": {
            "text/plain": [
              "ID                       0\n",
              "AGE                      0\n",
              "GENDER                   0\n",
              "RACE                     0\n",
              "DRIVING_EXPERIENCE       0\n",
              "EDUCATION                0\n",
              "INCOME                   0\n",
              "CREDIT_SCORE           982\n",
              "VEHICLE_OWNERSHIP        0\n",
              "VEHICLE_YEAR             0\n",
              "MARRIED                  0\n",
              "CHILDREN                 0\n",
              "POSTAL_CODE              0\n",
              "ANNUAL_MILEAGE         957\n",
              "VEHICLE_TYPE             0\n",
              "SPEEDING_VIOLATIONS      0\n",
              "DUIS                     0\n",
              "PAST_ACCIDENTS           0\n",
              "OUTCOME                  0\n",
              "dtype: int64"
            ]
          },
          "metadata": {},
          "execution_count": 4
        }
      ],
      "source": [
        "data_raw.isnull().sum()"
      ]
    },
    {
      "cell_type": "markdown",
      "metadata": {
        "id": "G3j9_x9CjF_v"
      },
      "source": [
        "Видим столбцы `CREDIT_SCORE`, `ANNUAL_MILEAGE` с пропущенными значениями. Можно было бы просто на просто удалить строки с этими ячейками, но их достаточно много (10%), поэтому дадим им значение медианы/моды этого признака. Так как это числовые признаки, возьмём медиану. Её значения выглядят так:"
      ]
    },
    {
      "cell_type": "code",
      "execution_count": 5,
      "metadata": {
        "colab": {
          "base_uri": "https://localhost:8080/"
        },
        "id": "GjpfAZ_LierH",
        "outputId": "6b8767bb-5bf2-4df6-c34c-e18daf395bc1"
      },
      "outputs": [
        {
          "output_type": "execute_result",
          "data": {
            "text/plain": [
              "CREDIT_SCORE          0.525033\n",
              "ANNUAL_MILEAGE    12000.000000\n",
              "dtype: float64"
            ]
          },
          "metadata": {},
          "execution_count": 5
        }
      ],
      "source": [
        "wherk = ['CREDIT_SCORE', 'ANNUAL_MILEAGE']\n",
        "data_raw[wherk].median(axis = 0)"
      ]
    },
    {
      "cell_type": "markdown",
      "metadata": {
        "id": "kc1EE6Wek4me"
      },
      "source": [
        "Осталось заполнить пропущенные ячейки их значением:"
      ]
    },
    {
      "cell_type": "code",
      "execution_count": 6,
      "metadata": {
        "id": "jlSdtb2HBNDb"
      },
      "outputs": [],
      "source": [
        "data_raw[wherk] = data_raw[wherk].fillna(data_raw[wherk].median(axis = 0), axis=0)"
      ]
    },
    {
      "cell_type": "markdown",
      "metadata": {
        "id": "vqtyYIdWBqm0"
      },
      "source": [
        "Теперь в базе нет пропущенных значений."
      ]
    },
    {
      "cell_type": "code",
      "execution_count": 7,
      "metadata": {
        "colab": {
          "base_uri": "https://localhost:8080/"
        },
        "id": "8uNuESZ_Bn7S",
        "outputId": "6a5bcf8d-9bc9-4e10-f316-23a35336033c"
      },
      "outputs": [
        {
          "output_type": "execute_result",
          "data": {
            "text/plain": [
              "ID                     0\n",
              "AGE                    0\n",
              "GENDER                 0\n",
              "RACE                   0\n",
              "DRIVING_EXPERIENCE     0\n",
              "EDUCATION              0\n",
              "INCOME                 0\n",
              "CREDIT_SCORE           0\n",
              "VEHICLE_OWNERSHIP      0\n",
              "VEHICLE_YEAR           0\n",
              "MARRIED                0\n",
              "CHILDREN               0\n",
              "POSTAL_CODE            0\n",
              "ANNUAL_MILEAGE         0\n",
              "VEHICLE_TYPE           0\n",
              "SPEEDING_VIOLATIONS    0\n",
              "DUIS                   0\n",
              "PAST_ACCIDENTS         0\n",
              "OUTCOME                0\n",
              "dtype: int64"
            ]
          },
          "metadata": {},
          "execution_count": 7
        }
      ],
      "source": [
        "data_raw.isnull().sum()"
      ]
    },
    {
      "cell_type": "markdown",
      "metadata": {
        "id": "tjOdoe6oBQ2e"
      },
      "source": [
        "## Визуализация"
      ]
    },
    {
      "cell_type": "markdown",
      "source": [
        "### Мат. описание"
      ],
      "metadata": {
        "id": "EBMq0foYUOG6"
      }
    },
    {
      "cell_type": "markdown",
      "metadata": {
        "id": "cher-gOIBXuQ"
      },
      "source": [
        "Посмотрим на признаки еще раз да повнимательнее. Можно увидеть как числовые, так и категориальные признаки. Числовые признаки можно было бы нормализовать. Категориальные же признаки стоит привести именно к категориальным. Займёмся этим позже."
      ]
    },
    {
      "cell_type": "code",
      "execution_count": 8,
      "metadata": {
        "colab": {
          "base_uri": "https://localhost:8080/"
        },
        "id": "5ItkWB7Ft-J2",
        "outputId": "b7dfe28b-9eca-4637-ba22-ec88ce307373"
      },
      "outputs": [
        {
          "output_type": "execute_result",
          "data": {
            "text/plain": [
              "Index(['ID', 'AGE', 'GENDER', 'RACE', 'DRIVING_EXPERIENCE', 'EDUCATION',\n",
              "       'INCOME', 'CREDIT_SCORE', 'VEHICLE_OWNERSHIP', 'VEHICLE_YEAR',\n",
              "       'MARRIED', 'CHILDREN', 'POSTAL_CODE', 'ANNUAL_MILEAGE', 'VEHICLE_TYPE',\n",
              "       'SPEEDING_VIOLATIONS', 'DUIS', 'PAST_ACCIDENTS', 'OUTCOME'],\n",
              "      dtype='object')"
            ]
          },
          "metadata": {},
          "execution_count": 8
        }
      ],
      "source": [
        "data_raw.columns"
      ]
    },
    {
      "cell_type": "markdown",
      "metadata": {
        "id": "0_2s-3mwEpw9"
      },
      "source": [
        "Можно взглянуть на мат. описание для каждого признака:"
      ]
    },
    {
      "cell_type": "code",
      "execution_count": 9,
      "metadata": {
        "colab": {
          "base_uri": "https://localhost:8080/",
          "height": 364
        },
        "id": "cwQL6YQyt-NL",
        "outputId": "3942c688-6743-4d64-9952-7290f43642de"
      },
      "outputs": [
        {
          "output_type": "execute_result",
          "data": {
            "text/plain": [
              "                  ID  CREDIT_SCORE  VEHICLE_OWNERSHIP       MARRIED  \\\n",
              "count   10000.000000  10000.000000       10000.000000  10000.000000   \n",
              "mean   500521.906800      0.516718           0.697000      0.498200   \n",
              "std    290030.768758      0.130781           0.459578      0.500022   \n",
              "min       101.000000      0.053358           0.000000      0.000000   \n",
              "25%    249638.500000      0.431509           0.000000      0.000000   \n",
              "50%    501777.000000      0.525033           1.000000      0.000000   \n",
              "75%    753974.500000      0.607607           1.000000      1.000000   \n",
              "max    999976.000000      0.960819           1.000000      1.000000   \n",
              "\n",
              "           CHILDREN   POSTAL_CODE  ANNUAL_MILEAGE  SPEEDING_VIOLATIONS  \\\n",
              "count  10000.000000  10000.000000    10000.000000         10000.000000   \n",
              "mean       0.688800  19864.548400    11726.000000             1.482900   \n",
              "std        0.463008  18915.613855     2681.649329             2.241966   \n",
              "min        0.000000  10238.000000     2000.000000             0.000000   \n",
              "25%        0.000000  10238.000000    10000.000000             0.000000   \n",
              "50%        1.000000  10238.000000    12000.000000             0.000000   \n",
              "75%        1.000000  32765.000000    13000.000000             2.000000   \n",
              "max        1.000000  92101.000000    22000.000000            22.000000   \n",
              "\n",
              "              DUIS  PAST_ACCIDENTS       OUTCOME  \n",
              "count  10000.00000    10000.000000  10000.000000  \n",
              "mean       0.23920        1.056300      0.313300  \n",
              "std        0.55499        1.652454      0.463858  \n",
              "min        0.00000        0.000000      0.000000  \n",
              "25%        0.00000        0.000000      0.000000  \n",
              "50%        0.00000        0.000000      0.000000  \n",
              "75%        0.00000        2.000000      1.000000  \n",
              "max        6.00000       15.000000      1.000000  "
            ],
            "text/html": [
              "\n",
              "  <div id=\"df-834dba64-f8ca-41f1-a5dc-500ad632de45\">\n",
              "    <div class=\"colab-df-container\">\n",
              "      <div>\n",
              "<style scoped>\n",
              "    .dataframe tbody tr th:only-of-type {\n",
              "        vertical-align: middle;\n",
              "    }\n",
              "\n",
              "    .dataframe tbody tr th {\n",
              "        vertical-align: top;\n",
              "    }\n",
              "\n",
              "    .dataframe thead th {\n",
              "        text-align: right;\n",
              "    }\n",
              "</style>\n",
              "<table border=\"1\" class=\"dataframe\">\n",
              "  <thead>\n",
              "    <tr style=\"text-align: right;\">\n",
              "      <th></th>\n",
              "      <th>ID</th>\n",
              "      <th>CREDIT_SCORE</th>\n",
              "      <th>VEHICLE_OWNERSHIP</th>\n",
              "      <th>MARRIED</th>\n",
              "      <th>CHILDREN</th>\n",
              "      <th>POSTAL_CODE</th>\n",
              "      <th>ANNUAL_MILEAGE</th>\n",
              "      <th>SPEEDING_VIOLATIONS</th>\n",
              "      <th>DUIS</th>\n",
              "      <th>PAST_ACCIDENTS</th>\n",
              "      <th>OUTCOME</th>\n",
              "    </tr>\n",
              "  </thead>\n",
              "  <tbody>\n",
              "    <tr>\n",
              "      <th>count</th>\n",
              "      <td>10000.000000</td>\n",
              "      <td>10000.000000</td>\n",
              "      <td>10000.000000</td>\n",
              "      <td>10000.000000</td>\n",
              "      <td>10000.000000</td>\n",
              "      <td>10000.000000</td>\n",
              "      <td>10000.000000</td>\n",
              "      <td>10000.000000</td>\n",
              "      <td>10000.00000</td>\n",
              "      <td>10000.000000</td>\n",
              "      <td>10000.000000</td>\n",
              "    </tr>\n",
              "    <tr>\n",
              "      <th>mean</th>\n",
              "      <td>500521.906800</td>\n",
              "      <td>0.516718</td>\n",
              "      <td>0.697000</td>\n",
              "      <td>0.498200</td>\n",
              "      <td>0.688800</td>\n",
              "      <td>19864.548400</td>\n",
              "      <td>11726.000000</td>\n",
              "      <td>1.482900</td>\n",
              "      <td>0.23920</td>\n",
              "      <td>1.056300</td>\n",
              "      <td>0.313300</td>\n",
              "    </tr>\n",
              "    <tr>\n",
              "      <th>std</th>\n",
              "      <td>290030.768758</td>\n",
              "      <td>0.130781</td>\n",
              "      <td>0.459578</td>\n",
              "      <td>0.500022</td>\n",
              "      <td>0.463008</td>\n",
              "      <td>18915.613855</td>\n",
              "      <td>2681.649329</td>\n",
              "      <td>2.241966</td>\n",
              "      <td>0.55499</td>\n",
              "      <td>1.652454</td>\n",
              "      <td>0.463858</td>\n",
              "    </tr>\n",
              "    <tr>\n",
              "      <th>min</th>\n",
              "      <td>101.000000</td>\n",
              "      <td>0.053358</td>\n",
              "      <td>0.000000</td>\n",
              "      <td>0.000000</td>\n",
              "      <td>0.000000</td>\n",
              "      <td>10238.000000</td>\n",
              "      <td>2000.000000</td>\n",
              "      <td>0.000000</td>\n",
              "      <td>0.00000</td>\n",
              "      <td>0.000000</td>\n",
              "      <td>0.000000</td>\n",
              "    </tr>\n",
              "    <tr>\n",
              "      <th>25%</th>\n",
              "      <td>249638.500000</td>\n",
              "      <td>0.431509</td>\n",
              "      <td>0.000000</td>\n",
              "      <td>0.000000</td>\n",
              "      <td>0.000000</td>\n",
              "      <td>10238.000000</td>\n",
              "      <td>10000.000000</td>\n",
              "      <td>0.000000</td>\n",
              "      <td>0.00000</td>\n",
              "      <td>0.000000</td>\n",
              "      <td>0.000000</td>\n",
              "    </tr>\n",
              "    <tr>\n",
              "      <th>50%</th>\n",
              "      <td>501777.000000</td>\n",
              "      <td>0.525033</td>\n",
              "      <td>1.000000</td>\n",
              "      <td>0.000000</td>\n",
              "      <td>1.000000</td>\n",
              "      <td>10238.000000</td>\n",
              "      <td>12000.000000</td>\n",
              "      <td>0.000000</td>\n",
              "      <td>0.00000</td>\n",
              "      <td>0.000000</td>\n",
              "      <td>0.000000</td>\n",
              "    </tr>\n",
              "    <tr>\n",
              "      <th>75%</th>\n",
              "      <td>753974.500000</td>\n",
              "      <td>0.607607</td>\n",
              "      <td>1.000000</td>\n",
              "      <td>1.000000</td>\n",
              "      <td>1.000000</td>\n",
              "      <td>32765.000000</td>\n",
              "      <td>13000.000000</td>\n",
              "      <td>2.000000</td>\n",
              "      <td>0.00000</td>\n",
              "      <td>2.000000</td>\n",
              "      <td>1.000000</td>\n",
              "    </tr>\n",
              "    <tr>\n",
              "      <th>max</th>\n",
              "      <td>999976.000000</td>\n",
              "      <td>0.960819</td>\n",
              "      <td>1.000000</td>\n",
              "      <td>1.000000</td>\n",
              "      <td>1.000000</td>\n",
              "      <td>92101.000000</td>\n",
              "      <td>22000.000000</td>\n",
              "      <td>22.000000</td>\n",
              "      <td>6.00000</td>\n",
              "      <td>15.000000</td>\n",
              "      <td>1.000000</td>\n",
              "    </tr>\n",
              "  </tbody>\n",
              "</table>\n",
              "</div>\n",
              "      <button class=\"colab-df-convert\" onclick=\"convertToInteractive('df-834dba64-f8ca-41f1-a5dc-500ad632de45')\"\n",
              "              title=\"Convert this dataframe to an interactive table.\"\n",
              "              style=\"display:none;\">\n",
              "        \n",
              "  <svg xmlns=\"http://www.w3.org/2000/svg\" height=\"24px\"viewBox=\"0 0 24 24\"\n",
              "       width=\"24px\">\n",
              "    <path d=\"M0 0h24v24H0V0z\" fill=\"none\"/>\n",
              "    <path d=\"M18.56 5.44l.94 2.06.94-2.06 2.06-.94-2.06-.94-.94-2.06-.94 2.06-2.06.94zm-11 1L8.5 8.5l.94-2.06 2.06-.94-2.06-.94L8.5 2.5l-.94 2.06-2.06.94zm10 10l.94 2.06.94-2.06 2.06-.94-2.06-.94-.94-2.06-.94 2.06-2.06.94z\"/><path d=\"M17.41 7.96l-1.37-1.37c-.4-.4-.92-.59-1.43-.59-.52 0-1.04.2-1.43.59L10.3 9.45l-7.72 7.72c-.78.78-.78 2.05 0 2.83L4 21.41c.39.39.9.59 1.41.59.51 0 1.02-.2 1.41-.59l7.78-7.78 2.81-2.81c.8-.78.8-2.07 0-2.86zM5.41 20L4 18.59l7.72-7.72 1.47 1.35L5.41 20z\"/>\n",
              "  </svg>\n",
              "      </button>\n",
              "      \n",
              "  <style>\n",
              "    .colab-df-container {\n",
              "      display:flex;\n",
              "      flex-wrap:wrap;\n",
              "      gap: 12px;\n",
              "    }\n",
              "\n",
              "    .colab-df-convert {\n",
              "      background-color: #E8F0FE;\n",
              "      border: none;\n",
              "      border-radius: 50%;\n",
              "      cursor: pointer;\n",
              "      display: none;\n",
              "      fill: #1967D2;\n",
              "      height: 32px;\n",
              "      padding: 0 0 0 0;\n",
              "      width: 32px;\n",
              "    }\n",
              "\n",
              "    .colab-df-convert:hover {\n",
              "      background-color: #E2EBFA;\n",
              "      box-shadow: 0px 1px 2px rgba(60, 64, 67, 0.3), 0px 1px 3px 1px rgba(60, 64, 67, 0.15);\n",
              "      fill: #174EA6;\n",
              "    }\n",
              "\n",
              "    [theme=dark] .colab-df-convert {\n",
              "      background-color: #3B4455;\n",
              "      fill: #D2E3FC;\n",
              "    }\n",
              "\n",
              "    [theme=dark] .colab-df-convert:hover {\n",
              "      background-color: #434B5C;\n",
              "      box-shadow: 0px 1px 3px 1px rgba(0, 0, 0, 0.15);\n",
              "      filter: drop-shadow(0px 1px 2px rgba(0, 0, 0, 0.3));\n",
              "      fill: #FFFFFF;\n",
              "    }\n",
              "  </style>\n",
              "\n",
              "      <script>\n",
              "        const buttonEl =\n",
              "          document.querySelector('#df-834dba64-f8ca-41f1-a5dc-500ad632de45 button.colab-df-convert');\n",
              "        buttonEl.style.display =\n",
              "          google.colab.kernel.accessAllowed ? 'block' : 'none';\n",
              "\n",
              "        async function convertToInteractive(key) {\n",
              "          const element = document.querySelector('#df-834dba64-f8ca-41f1-a5dc-500ad632de45');\n",
              "          const dataTable =\n",
              "            await google.colab.kernel.invokeFunction('convertToInteractive',\n",
              "                                                     [key], {});\n",
              "          if (!dataTable) return;\n",
              "\n",
              "          const docLinkHtml = 'Like what you see? Visit the ' +\n",
              "            '<a target=\"_blank\" href=https://colab.research.google.com/notebooks/data_table.ipynb>data table notebook</a>'\n",
              "            + ' to learn more about interactive tables.';\n",
              "          element.innerHTML = '';\n",
              "          dataTable['output_type'] = 'display_data';\n",
              "          await google.colab.output.renderOutput(dataTable, element);\n",
              "          const docLink = document.createElement('div');\n",
              "          docLink.innerHTML = docLinkHtml;\n",
              "          element.appendChild(docLink);\n",
              "        }\n",
              "      </script>\n",
              "    </div>\n",
              "  </div>\n",
              "  "
            ]
          },
          "metadata": {},
          "execution_count": 9
        }
      ],
      "source": [
        "data_raw.describe()"
      ]
    },
    {
      "cell_type": "markdown",
      "metadata": {
        "id": "hih4wEBZ2MCA"
      },
      "source": [
        "Из этой таблицы следует, что клиенты подобраны весьма интересные, во весь спектр каждого из признаков. Средние и медианные значения ушли недалеко от половины максимального значения."
      ]
    },
    {
      "cell_type": "markdown",
      "source": [
        "Посмотрим на то, сбалансирована ли выборка:"
      ],
      "metadata": {
        "id": "e_J87ne_lNKB"
      }
    },
    {
      "cell_type": "code",
      "source": [
        "plt.pie(data_raw['OUTCOME'].value_counts(),\n",
        "        labels = [\"Не ыплатили\", \"Выплатили\"],\n",
        "        colors = sns.color_palette(\"YlGn\"),\n",
        "        autopct = '%1.1f%%')\n",
        "pass"
      ],
      "metadata": {
        "colab": {
          "base_uri": "https://localhost:8080/",
          "height": 248
        },
        "id": "WfqaXUdqlSlc",
        "outputId": "b249992c-b04c-4954-e2cf-548a9e7faf47"
      },
      "execution_count": 10,
      "outputs": [
        {
          "output_type": "display_data",
          "data": {
            "text/plain": [
              "<Figure size 432x288 with 1 Axes>"
            ],
            "image/png": "[encoded data removed]"
          },
          "metadata": {}
        }
      ]
    },
    {
      "cell_type": "markdown",
      "source": [
        "Не критично, но всё-таки разбалансировка есть."
      ],
      "metadata": {
        "id": "fkdwtRSJm4H4"
      }
    },
    {
      "cell_type": "markdown",
      "source": [
        "Все диаграммы рассеивания:"
      ],
      "metadata": {
        "id": "fqxHUdiRTWx5"
      }
    },
    {
      "cell_type": "code",
      "execution_count": 11,
      "metadata": {
        "id": "Wk_NDRpIBotP"
      },
      "outputs": [],
      "source": [
        "sns.pairplot(data_raw, hue=\"OUTCOME\", palette=\"viridis\")\n",
        "pass"
      ]
    },
    {
      "cell_type": "markdown",
      "metadata": {
        "id": "JBHBxPl4vA4I"
      },
      "source": [
        "  Отобразим матрицу корреляций для количественных признаков. Видим много интересных закономерностей.\n",
        "  Если клиент в браке, или же если у него есть дети, то количество намотанных милей в год меньше, чем у холостяка/холостячки без детей.\n",
        "  Нарушение скоростного ограничения связано с количеством попадания в аварии, а также количеством раз, когда водитель был пойман пьяным за рулём. Что собственно логично.\n",
        "  Что интересно, увелечение оценки кредитоспособности влечёт (немного) за собой увеличение всяческих нарушений правил дорожного движения.\n",
        "  Еще одна интересная вещь, чем больше кредитный рейтинг у клиента, тем больше вероятность того, что он владелец транспортного средства."
      ]
    },
    {
      "cell_type": "code",
      "execution_count": 12,
      "metadata": {
        "colab": {
          "base_uri": "https://localhost:8080/",
          "height": 701
        },
        "id": "swiO6YWAvEQ-",
        "outputId": "ef176810-f0e5-4839-f7d8-ce42f9c3b3d1"
      },
      "outputs": [
        {
          "output_type": "display_data",
          "data": {
            "text/plain": [
              "<Figure size 1584x720 with 2 Axes>"
            ],
            "image/png": "[encoded data removed]"
          },
          "metadata": {
            "needs_background": "light"
          }
        }
      ],
      "source": [
        "corr_mat = data_raw.corr()\n",
        "plt.subplots(figsize=(22, 10))\n",
        "sns.heatmap(corr_mat, square=True, annot=True, fmt='.2f', vmin=-1, vmax=1, cmap='YlGn')\n",
        "pass"
      ]
    },
    {
      "cell_type": "markdown",
      "source": [
        "Отобразим отдельно корреляцию относительно признака `OUTCOME`. Можно увидеть, что корреляция с `ID` и `POSTAL_CODE` мала и составляет меньше 0.1."
      ],
      "metadata": {
        "id": "IJc_6u8Q-o04"
      }
    },
    {
      "cell_type": "markdown",
      "source": [
        "### Корреляция с OUTCOME"
      ],
      "metadata": {
        "id": "ggksgvZPT3rr"
      }
    },
    {
      "cell_type": "code",
      "source": [
        "data_raw.drop('OUTCOME', axis=1).corrwith(data_raw['OUTCOME']).plot(kind='bar', \n",
        "                                                                 grid=True, \n",
        "                                                                 figsize=(16, 5), \n",
        "                                                                 title=\"Корреляция по отношению к OUTCOME\",\n",
        "                                                                 color=\"lightgreen\");"
      ],
      "metadata": {
        "colab": {
          "base_uri": "https://localhost:8080/",
          "height": 441
        },
        "id": "19aLE05Z8tKP",
        "outputId": "30c0bb18-dfbc-48bf-f2d2-be658e73c917"
      },
      "execution_count": 13,
      "outputs": [
        {
          "output_type": "display_data",
          "data": {
            "text/plain": [
              "<Figure size 1152x360 with 1 Axes>"
            ],
            "image/png": "[encoded data removed]"
          },
          "metadata": {
            "needs_background": "light"
          }
        }
      ]
    },
    {
      "cell_type": "markdown",
      "source": [
        "В случае `ID` аж 0.01. От него совсем ничего не зависит (для всех признаков) поэтому удалим его из таблицы."
      ],
      "metadata": {
        "id": "7OoOjqOm_j5Q"
      }
    },
    {
      "cell_type": "code",
      "source": [
        "data_raw.drop(columns=['ID'], axis=1, inplace=True)"
      ],
      "metadata": {
        "id": "SmjJ2dOK_ksN"
      },
      "execution_count": 14,
      "outputs": []
    },
    {
      "cell_type": "markdown",
      "source": [
        "В страховые случаи больше попадают мужчины, чем женщины, хоть и ненамного, но всё же :)"
      ],
      "metadata": {
        "id": "PN1HMfWGAwwy"
      }
    },
    {
      "cell_type": "code",
      "source": [
        "pd.crosstab(data_raw['GENDER'], data_raw['OUTCOME']).plot(kind = 'bar')\n",
        "pass"
      ],
      "metadata": {
        "colab": {
          "base_uri": "https://localhost:8080/",
          "height": 304
        },
        "id": "1DX6nwC1AOFe",
        "outputId": "b1b209ff-83c2-4dce-bd4e-19e0a38418e2"
      },
      "execution_count": 15,
      "outputs": [
        {
          "output_type": "display_data",
          "data": {
            "text/plain": [
              "<Figure size 432x288 with 1 Axes>"
            ],
            "image/png": "[encoded data removed]"
          },
          "metadata": {
            "needs_background": "light"
          }
        }
      ]
    },
    {
      "cell_type": "markdown",
      "source": [
        "Клиент побывал хотя бы раз в аварии -> попадать в аварии перехотелось"
      ],
      "metadata": {
        "id": "GlRant1mXHLR"
      }
    },
    {
      "cell_type": "code",
      "source": [
        "pd.crosstab(data_raw['PAST_ACCIDENTS'], data_raw['OUTCOME']).plot(kind = 'bar')\n",
        "pass"
      ],
      "metadata": {
        "colab": {
          "base_uri": "https://localhost:8080/",
          "height": 283
        },
        "id": "kv7GuR9mW7jf",
        "outputId": "1705ab62-e74e-4f46-b775-04b382eeb253"
      },
      "execution_count": 16,
      "outputs": [
        {
          "output_type": "display_data",
          "data": {
            "text/plain": [
              "<Figure size 432x288 with 1 Axes>"
            ],
            "image/png": "[encoded data removed]"
          },
          "metadata": {
            "needs_background": "light"
          }
        }
      ]
    },
    {
      "cell_type": "markdown",
      "source": [
        "Если клиент оказался из класса poverty, то с вероятностью около 70% он вляпается в какую-нибудь ситуацию, при которой компании придется выплачивать страховку. Возможно как-то намеренно, дабы заработать."
      ],
      "metadata": {
        "id": "cegwiPjDBbfE"
      }
    },
    {
      "cell_type": "code",
      "source": [
        "pd.crosstab(data_raw['INCOME'], data_raw['OUTCOME']).plot(kind = 'bar')\n",
        "pass"
      ],
      "metadata": {
        "colab": {
          "base_uri": "https://localhost:8080/",
          "height": 337
        },
        "id": "8ch3-0FABB_u",
        "outputId": "c08de6c7-6b24-473b-88a5-803e7da394bf"
      },
      "execution_count": 17,
      "outputs": [
        {
          "output_type": "display_data",
          "data": {
            "text/plain": [
              "<Figure size 432x288 with 1 Axes>"
            ],
            "image/png": "[encoded data removed]"
          },
          "metadata": {
            "needs_background": "light"
          }
        }
      ]
    },
    {
      "cell_type": "markdown",
      "source": [
        "Новички в вождении, а также молодые люди чаще попадают под страховой случай:"
      ],
      "metadata": {
        "id": "ZYSfN3v2CzIG"
      }
    },
    {
      "cell_type": "code",
      "source": [
        "fig = plt.figure()\n",
        "ax1 = fig.add_subplot(121)\n",
        "ax2 = fig.add_subplot(122)\n",
        "pd.crosstab(data_raw['DRIVING_EXPERIENCE'], data_raw['OUTCOME']).plot(kind = 'bar', ax=ax1, figsize=(12,6))\n",
        "pd.crosstab(data_raw['AGE'], data_raw['OUTCOME']).plot(kind = 'bar', ax=ax2)\n",
        "pass"
      ],
      "metadata": {
        "colab": {
          "base_uri": "https://localhost:8080/",
          "height": 414
        },
        "id": "kvHH3_z-Ckqm",
        "outputId": "fde55331-3823-41ef-bce5-8519c3c135f0"
      },
      "execution_count": 18,
      "outputs": [
        {
          "output_type": "display_data",
          "data": {
            "text/plain": [
              "<Figure size 864x432 with 2 Axes>"
            ],
            "image/png": "[encoded data removed]"
          },
          "metadata": {
            "needs_background": "light"
          }
        }
      ]
    },
    {
      "cell_type": "markdown",
      "source": [
        "## Обработка выбросов"
      ],
      "metadata": {
        "id": "eBT6axbKaB80"
      }
    },
    {
      "cell_type": "markdown",
      "source": [
        "Из коробок с усами можно заметить единичные выбросы:"
      ],
      "metadata": {
        "id": "eB3Cv73ycbvY"
      }
    },
    {
      "cell_type": "code",
      "source": [
        "fig = plt.figure(figsize=(12,6))\n",
        "ax1 = fig.add_subplot(121)\n",
        "ax2 = fig.add_subplot(122)\n",
        "sns.boxplot(y=\"ANNUAL_MILEAGE\", data=data_raw, ax=ax1)\n",
        "sns.boxplot(y=\"SPEEDING_VIOLATIONS\", data=data_raw, ax=ax2)\n",
        "pass"
      ],
      "metadata": {
        "colab": {
          "base_uri": "https://localhost:8080/",
          "height": 361
        },
        "id": "tMO5VmHjaGfF",
        "outputId": "f5facf52-bcf6-4fcc-96c9-e2c2fe4becb6"
      },
      "execution_count": 19,
      "outputs": [
        {
          "output_type": "display_data",
          "data": {
            "text/plain": [
              "<Figure size 864x432 with 2 Axes>"
            ],
            "image/png": "[encoded data removed]"
          },
          "metadata": {
            "needs_background": "light"
          }
        }
      ]
    },
    {
      "cell_type": "code",
      "source": [
        "fig = plt.figure(figsize=(12,6))\n",
        "ax1 = fig.add_subplot(121)\n",
        "ax2 = fig.add_subplot(122)\n",
        "sns.boxplot(y=\"DUIS\", data=data_raw, ax=ax1)\n",
        "sns.boxplot(y=\"PAST_ACCIDENTS\", data=data_raw, ax=ax2)\n",
        "pass"
      ],
      "metadata": {
        "colab": {
          "base_uri": "https://localhost:8080/",
          "height": 361
        },
        "id": "z91YQ-9zcHuC",
        "outputId": "a2b47770-1fff-4db4-ecfb-bb656b4241c1"
      },
      "execution_count": 60,
      "outputs": [
        {
          "output_type": "display_data",
          "data": {
            "text/plain": [
              "<Figure size 864x432 with 2 Axes>"
            ],
            "image/png": "[encoded data removed]"
          },
          "metadata": {
            "needs_background": "light"
          }
        }
      ]
    },
    {
      "cell_type": "markdown",
      "source": [
        "Избавимся от них по верхнему квантилю 0.995. В случае `ANNUAL_MILEAGE` еще и по нижнему квантилю (0.005):"
      ],
      "metadata": {
        "id": "zq-Af5uKci2v"
      }
    },
    {
      "cell_type": "code",
      "source": [
        "data_raw = data_raw[(data_raw['ANNUAL_MILEAGE'] <= data_raw['ANNUAL_MILEAGE'].quantile(0.995)) &\n",
        "                    (data_raw['SPEEDING_VIOLATIONS'] <= data_raw['SPEEDING_VIOLATIONS'].quantile(0.995)) & \n",
        "                    (data_raw['DUIS'] <= data_raw['DUIS'].quantile(0.995)) & \n",
        "                    (data_raw['PAST_ACCIDENTS'] <= data_raw['PAST_ACCIDENTS'].quantile(0.995)) &\n",
        "                    (data_raw['ANNUAL_MILEAGE'] >= data_raw['PAST_ACCIDENTS'].quantile(0.005))]\n",
        "data_raw.shape"
      ],
      "metadata": {
        "colab": {
          "base_uri": "https://localhost:8080/"
        },
        "id": "lrHlRACSYkBv",
        "outputId": "081b539e-3d5e-485e-c847-4bf946c5614e"
      },
      "execution_count": 21,
      "outputs": [
        {
          "output_type": "execute_result",
          "data": {
            "text/plain": [
              "(9898, 18)"
            ]
          },
          "metadata": {},
          "execution_count": 21
        }
      ]
    },
    {
      "cell_type": "markdown",
      "source": [
        "## Типизация признаков"
      ],
      "metadata": {
        "id": "sZD-_dak7ACR"
      }
    },
    {
      "cell_type": "markdown",
      "metadata": {
        "id": "m-y6Gi1yItBa"
      },
      "source": [
        "<!-- `ID`, `CREDIT_SCORE`, `POSTAL_CODE`, `ANNUAL_MILEAGE`, `SPEEDING_VIOLATIONS`, `DUIS`, `PAST_ACCIDENTS` - являются количественными (числовыми) признаками. -->\n",
        "`GENDER`, `RACE`, `VEHICLE_OWNERSHIP`, `VEHICLE_YEAR`, `MARRIED`, `CHILDREN`, `VEHICLE_TYPE`, `OUTCOME` - являются категориальными, бинарными признаками.\n",
        "\n",
        "`DRIVING_EXPERIENCE`, `EDUCATION`, `INCOME`, `AGE`, `POSTAL_CODE` - являются категориальными, номинальными признаками.\n",
        "\n",
        "Остальные будут являться количественными (числовыми) признаками."
      ]
    },
    {
      "cell_type": "markdown",
      "metadata": {
        "id": "0pnt0_wdPuQG"
      },
      "source": [
        "Заранее заведем список категориальных признаков, это пригодится для правильной их типизации:"
      ]
    },
    {
      "cell_type": "code",
      "execution_count": 22,
      "metadata": {
        "id": "eTDiOf_KP6cE"
      },
      "outputs": [],
      "source": [
        "bin_categories = [\"GENDER\", \"RACE\", \"VEHICLE_OWNERSHIP\", \"VEHICLE_YEAR\",\n",
        "                  \"MARRIED\", \"CHILDREN\", \"VEHICLE_TYPE\", \"OUTCOME\"]\n",
        "nom_categories = [\"DRIVING_EXPERIENCE\", \"EDUCATION\", \"INCOME\", \"AGE\", \"POSTAL_CODE\"]"
      ]
    },
    {
      "cell_type": "markdown",
      "metadata": {
        "id": "TB2f-SYINJJG"
      },
      "source": [
        "Некоторые категориальные признаки уже являются по типу 'category'. Однако есть и 'Obj', а то и вовсе 'float':"
      ]
    },
    {
      "cell_type": "code",
      "execution_count": 23,
      "metadata": {
        "colab": {
          "base_uri": "https://localhost:8080/"
        },
        "id": "LFQT4caDMkuj",
        "outputId": "9164ae0a-b018-4d8b-d496-b1ef67f41d10"
      },
      "outputs": [
        {
          "output_type": "stream",
          "name": "stdout",
          "text": [
            "AGE -> object\n",
            "GENDER -> object\n",
            "RACE -> object\n",
            "DRIVING_EXPERIENCE -> object\n",
            "EDUCATION -> object\n",
            "INCOME -> object\n",
            "CREDIT_SCORE -> float64\n",
            "VEHICLE_OWNERSHIP -> float64\n",
            "VEHICLE_YEAR -> object\n",
            "MARRIED -> float64\n",
            "CHILDREN -> float64\n",
            "POSTAL_CODE -> int64\n",
            "ANNUAL_MILEAGE -> float64\n",
            "VEHICLE_TYPE -> object\n",
            "SPEEDING_VIOLATIONS -> int64\n",
            "DUIS -> int64\n",
            "PAST_ACCIDENTS -> int64\n",
            "OUTCOME -> float64\n"
          ]
        }
      ],
      "source": [
        "for feature in data_raw.columns:\n",
        "  print(f'{feature} -> {data_raw[feature].dtype.name}')"
      ]
    },
    {
      "cell_type": "markdown",
      "metadata": {
        "id": "FWUvIRixPcYi"
      },
      "source": [
        "Исправим это и приведем все категориальные признаки к типу 'category':"
      ]
    },
    {
      "cell_type": "code",
      "execution_count": 24,
      "metadata": {
        "id": "lOmAmXRKNuBI",
        "colab": {
          "base_uri": "https://localhost:8080/"
        },
        "outputId": "b30ca118-c470-4eea-f0f0-a217fe0bc996"
      },
      "outputs": [
        {
          "output_type": "stream",
          "name": "stderr",
          "text": [
            "/usr/local/lib/python3.7/dist-packages/ipykernel_launcher.py:3: SettingWithCopyWarning: \n",
            "A value is trying to be set on a copy of a slice from a DataFrame.\n",
            "Try using .loc[row_indexer,col_indexer] = value instead\n",
            "\n",
            "See the caveats in the documentation: https://pandas.pydata.org/pandas-docs/stable/user_guide/indexing.html#returning-a-view-versus-a-copy\n",
            "  This is separate from the ipykernel package so we can avoid doing imports until\n"
          ]
        }
      ],
      "source": [
        "for category in (bin_categories + nom_categories):\n",
        "  if data_raw[category].dtype.name != 'category':\n",
        "    data_raw[category] = data_raw[category].astype('category')"
      ]
    },
    {
      "cell_type": "markdown",
      "metadata": {
        "id": "3U4MBhyYT6Jz"
      },
      "source": [
        "Готово. Проверим на одном из признаков:"
      ]
    },
    {
      "cell_type": "code",
      "execution_count": 25,
      "metadata": {
        "colab": {
          "base_uri": "https://localhost:8080/"
        },
        "id": "0qTledTSULf2",
        "outputId": "7789a6da-8ecf-4f2f-bb5b-07861d47327b"
      },
      "outputs": [
        {
          "output_type": "execute_result",
          "data": {
            "text/plain": [
              "CategoricalDtype(categories=['16-25', '26-39', '40-64', '65+'], ordered=False)"
            ]
          },
          "metadata": {},
          "execution_count": 25
        }
      ],
      "source": [
        "data_raw['AGE'].dtype"
      ]
    },
    {
      "cell_type": "markdown",
      "metadata": {
        "id": "uGANqEnO20_e"
      },
      "source": [
        "## Нормализация\n",
        "Для лучшей работы многих алгоритмов машинного обучений необходима нормализация данных. Воспользуемся стандартным способом - линейным преобразованием, приводящем все значения к нулевому среднему и единичному среднеквадратичному отклонению."
      ]
    },
    {
      "cell_type": "code",
      "execution_count": 26,
      "metadata": {
        "id": "96E3oFuwmOpe"
      },
      "outputs": [],
      "source": [
        "data = data_raw.copy()"
      ]
    },
    {
      "cell_type": "code",
      "execution_count": 27,
      "metadata": {
        "colab": {
          "base_uri": "https://localhost:8080/"
        },
        "id": "gKxdOWIU3Qbe",
        "outputId": "e4d14b6e-c9bd-4398-a4ab-d71b9968d1e9"
      },
      "outputs": [
        {
          "output_type": "execute_result",
          "data": {
            "text/plain": [
              "['SPEEDING_VIOLATIONS',\n",
              " 'CREDIT_SCORE',\n",
              " 'DUIS',\n",
              " 'PAST_ACCIDENTS',\n",
              " 'ANNUAL_MILEAGE']"
            ]
          },
          "metadata": {},
          "execution_count": 27
        }
      ],
      "source": [
        "numb_categories = list(set(data.columns) - set(bin_categories) - set(nom_categories))\n",
        "numb_categories"
      ]
    },
    {
      "cell_type": "code",
      "execution_count": 28,
      "metadata": {
        "colab": {
          "base_uri": "https://localhost:8080/",
          "height": 300
        },
        "id": "_SZ_4sPX29CT",
        "outputId": "83621c1a-7429-4a3c-f411-0d5c480db5f6"
      },
      "outputs": [
        {
          "output_type": "execute_result",
          "data": {
            "text/plain": [
              "       CREDIT_SCORE  ANNUAL_MILEAGE  SPEEDING_VIOLATIONS          DUIS  \\\n",
              "count  9.898000e+03    9.898000e+03         9.898000e+03  9.898000e+03   \n",
              "mean  -6.568464e-17   -5.563453e-17        -7.106863e-17 -1.435730e-18   \n",
              "std    1.000000e+00    1.000000e+00         1.000000e+00  1.000000e+00   \n",
              "min   -3.534025e+00   -3.675170e+00        -6.841941e-01 -4.342597e-01   \n",
              "25%   -6.544722e-01   -6.542461e-01        -6.841941e-01 -4.342597e-01   \n",
              "50%    6.675314e-02    1.009849e-01        -6.841941e-01 -4.342597e-01   \n",
              "75%    6.953707e-01    4.786003e-01         2.805001e-01 -4.342597e-01   \n",
              "max    3.393553e+00    2.744293e+00         5.103971e+00  5.223883e+00   \n",
              "\n",
              "       PAST_ACCIDENTS  \n",
              "count    9.898000e+03  \n",
              "mean    -2.261275e-17  \n",
              "std      1.000000e+00  \n",
              "min     -6.546689e-01  \n",
              "25%     -6.546689e-01  \n",
              "50%     -6.546689e-01  \n",
              "75%      6.365362e-01  \n",
              "max      4.510152e+00  "
            ],
            "text/html": [
              "\n",
              "  <div id=\"df-7b38e2b1-b335-4c58-8789-275cff071476\">\n",
              "    <div class=\"colab-df-container\">\n",
              "      <div>\n",
              "<style scoped>\n",
              "    .dataframe tbody tr th:only-of-type {\n",
              "        vertical-align: middle;\n",
              "    }\n",
              "\n",
              "    .dataframe tbody tr th {\n",
              "        vertical-align: top;\n",
              "    }\n",
              "\n",
              "    .dataframe thead th {\n",
              "        text-align: right;\n",
              "    }\n",
              "</style>\n",
              "<table border=\"1\" class=\"dataframe\">\n",
              "  <thead>\n",
              "    <tr style=\"text-align: right;\">\n",
              "      <th></th>\n",
              "      <th>CREDIT_SCORE</th>\n",
              "      <th>ANNUAL_MILEAGE</th>\n",
              "      <th>SPEEDING_VIOLATIONS</th>\n",
              "      <th>DUIS</th>\n",
              "      <th>PAST_ACCIDENTS</th>\n",
              "    </tr>\n",
              "  </thead>\n",
              "  <tbody>\n",
              "    <tr>\n",
              "      <th>count</th>\n",
              "      <td>9.898000e+03</td>\n",
              "      <td>9.898000e+03</td>\n",
              "      <td>9.898000e+03</td>\n",
              "      <td>9.898000e+03</td>\n",
              "      <td>9.898000e+03</td>\n",
              "    </tr>\n",
              "    <tr>\n",
              "      <th>mean</th>\n",
              "      <td>-6.568464e-17</td>\n",
              "      <td>-5.563453e-17</td>\n",
              "      <td>-7.106863e-17</td>\n",
              "      <td>-1.435730e-18</td>\n",
              "      <td>-2.261275e-17</td>\n",
              "    </tr>\n",
              "    <tr>\n",
              "      <th>std</th>\n",
              "      <td>1.000000e+00</td>\n",
              "      <td>1.000000e+00</td>\n",
              "      <td>1.000000e+00</td>\n",
              "      <td>1.000000e+00</td>\n",
              "      <td>1.000000e+00</td>\n",
              "    </tr>\n",
              "    <tr>\n",
              "      <th>min</th>\n",
              "      <td>-3.534025e+00</td>\n",
              "      <td>-3.675170e+00</td>\n",
              "      <td>-6.841941e-01</td>\n",
              "      <td>-4.342597e-01</td>\n",
              "      <td>-6.546689e-01</td>\n",
              "    </tr>\n",
              "    <tr>\n",
              "      <th>25%</th>\n",
              "      <td>-6.544722e-01</td>\n",
              "      <td>-6.542461e-01</td>\n",
              "      <td>-6.841941e-01</td>\n",
              "      <td>-4.342597e-01</td>\n",
              "      <td>-6.546689e-01</td>\n",
              "    </tr>\n",
              "    <tr>\n",
              "      <th>50%</th>\n",
              "      <td>6.675314e-02</td>\n",
              "      <td>1.009849e-01</td>\n",
              "      <td>-6.841941e-01</td>\n",
              "      <td>-4.342597e-01</td>\n",
              "      <td>-6.546689e-01</td>\n",
              "    </tr>\n",
              "    <tr>\n",
              "      <th>75%</th>\n",
              "      <td>6.953707e-01</td>\n",
              "      <td>4.786003e-01</td>\n",
              "      <td>2.805001e-01</td>\n",
              "      <td>-4.342597e-01</td>\n",
              "      <td>6.365362e-01</td>\n",
              "    </tr>\n",
              "    <tr>\n",
              "      <th>max</th>\n",
              "      <td>3.393553e+00</td>\n",
              "      <td>2.744293e+00</td>\n",
              "      <td>5.103971e+00</td>\n",
              "      <td>5.223883e+00</td>\n",
              "      <td>4.510152e+00</td>\n",
              "    </tr>\n",
              "  </tbody>\n",
              "</table>\n",
              "</div>\n",
              "      <button class=\"colab-df-convert\" onclick=\"convertToInteractive('df-7b38e2b1-b335-4c58-8789-275cff071476')\"\n",
              "              title=\"Convert this dataframe to an interactive table.\"\n",
              "              style=\"display:none;\">\n",
              "        \n",
              "  <svg xmlns=\"http://www.w3.org/2000/svg\" height=\"24px\"viewBox=\"0 0 24 24\"\n",
              "       width=\"24px\">\n",
              "    <path d=\"M0 0h24v24H0V0z\" fill=\"none\"/>\n",
              "    <path d=\"M18.56 5.44l.94 2.06.94-2.06 2.06-.94-2.06-.94-.94-2.06-.94 2.06-2.06.94zm-11 1L8.5 8.5l.94-2.06 2.06-.94-2.06-.94L8.5 2.5l-.94 2.06-2.06.94zm10 10l.94 2.06.94-2.06 2.06-.94-2.06-.94-.94-2.06-.94 2.06-2.06.94z\"/><path d=\"M17.41 7.96l-1.37-1.37c-.4-.4-.92-.59-1.43-.59-.52 0-1.04.2-1.43.59L10.3 9.45l-7.72 7.72c-.78.78-.78 2.05 0 2.83L4 21.41c.39.39.9.59 1.41.59.51 0 1.02-.2 1.41-.59l7.78-7.78 2.81-2.81c.8-.78.8-2.07 0-2.86zM5.41 20L4 18.59l7.72-7.72 1.47 1.35L5.41 20z\"/>\n",
              "  </svg>\n",
              "      </button>\n",
              "      \n",
              "  <style>\n",
              "    .colab-df-container {\n",
              "      display:flex;\n",
              "      flex-wrap:wrap;\n",
              "      gap: 12px;\n",
              "    }\n",
              "\n",
              "    .colab-df-convert {\n",
              "      background-color: #E8F0FE;\n",
              "      border: none;\n",
              "      border-radius: 50%;\n",
              "      cursor: pointer;\n",
              "      display: none;\n",
              "      fill: #1967D2;\n",
              "      height: 32px;\n",
              "      padding: 0 0 0 0;\n",
              "      width: 32px;\n",
              "    }\n",
              "\n",
              "    .colab-df-convert:hover {\n",
              "      background-color: #E2EBFA;\n",
              "      box-shadow: 0px 1px 2px rgba(60, 64, 67, 0.3), 0px 1px 3px 1px rgba(60, 64, 67, 0.15);\n",
              "      fill: #174EA6;\n",
              "    }\n",
              "\n",
              "    [theme=dark] .colab-df-convert {\n",
              "      background-color: #3B4455;\n",
              "      fill: #D2E3FC;\n",
              "    }\n",
              "\n",
              "    [theme=dark] .colab-df-convert:hover {\n",
              "      background-color: #434B5C;\n",
              "      box-shadow: 0px 1px 3px 1px rgba(0, 0, 0, 0.15);\n",
              "      filter: drop-shadow(0px 1px 2px rgba(0, 0, 0, 0.3));\n",
              "      fill: #FFFFFF;\n",
              "    }\n",
              "  </style>\n",
              "\n",
              "      <script>\n",
              "        const buttonEl =\n",
              "          document.querySelector('#df-7b38e2b1-b335-4c58-8789-275cff071476 button.colab-df-convert');\n",
              "        buttonEl.style.display =\n",
              "          google.colab.kernel.accessAllowed ? 'block' : 'none';\n",
              "\n",
              "        async function convertToInteractive(key) {\n",
              "          const element = document.querySelector('#df-7b38e2b1-b335-4c58-8789-275cff071476');\n",
              "          const dataTable =\n",
              "            await google.colab.kernel.invokeFunction('convertToInteractive',\n",
              "                                                     [key], {});\n",
              "          if (!dataTable) return;\n",
              "\n",
              "          const docLinkHtml = 'Like what you see? Visit the ' +\n",
              "            '<a target=\"_blank\" href=https://colab.research.google.com/notebooks/data_table.ipynb>data table notebook</a>'\n",
              "            + ' to learn more about interactive tables.';\n",
              "          element.innerHTML = '';\n",
              "          dataTable['output_type'] = 'display_data';\n",
              "          await google.colab.output.renderOutput(dataTable, element);\n",
              "          const docLink = document.createElement('div');\n",
              "          docLink.innerHTML = docLinkHtml;\n",
              "          element.appendChild(docLink);\n",
              "        }\n",
              "      </script>\n",
              "    </div>\n",
              "  </div>\n",
              "  "
            ]
          },
          "metadata": {},
          "execution_count": 28
        }
      ],
      "source": [
        "data[numb_categories] = (data[numb_categories] - data[numb_categories].mean(axis = 0))/data[numb_categories].std(axis = 0)\n",
        "data.describe()"
      ]
    },
    {
      "cell_type": "markdown",
      "source": [
        "## Обработка категориальных признаков"
      ],
      "metadata": {
        "id": "3z1_s8zM4lXQ"
      }
    },
    {
      "cell_type": "markdown",
      "metadata": {
        "id": "vQTaThOtzZVT"
      },
      "source": [
        "Поработаем над видом категориальных значений в итоговом датасете. Бинарные представим в виде 0 и 1. Номинальные представим в виде новых признаков с присвоенными им значениями 0 или 1."
      ]
    },
    {
      "cell_type": "code",
      "execution_count": 29,
      "metadata": {
        "id": "noLLLHZU1G39"
      },
      "outputs": [],
      "source": [
        "for feature in bin_categories:\n",
        "    data[feature] = data[feature].astype(object)\n",
        "    if type(data[feature].unique()[0]) == float:\n",
        "        data[feature] = data[feature].astype({feature: \"int\"})\n",
        "    else:\n",
        "        data.at[data[feature] == data[feature].unique()[0], feature] = 0\n",
        "        data.at[data[feature] == data[feature].unique()[1], feature] = 1"
      ]
    },
    {
      "cell_type": "code",
      "execution_count": 30,
      "metadata": {
        "colab": {
          "base_uri": "https://localhost:8080/"
        },
        "id": "VstikvPozuIR",
        "outputId": "4d5e03f8-58c3-4de6-82d3-24242a493f88"
      },
      "outputs": [
        {
          "output_type": "stream",
          "name": "stdout",
          "text": [
            "Index(['GENDER', 'RACE', 'CREDIT_SCORE', 'VEHICLE_OWNERSHIP', 'VEHICLE_YEAR',\n",
            "       'MARRIED', 'CHILDREN', 'ANNUAL_MILEAGE', 'VEHICLE_TYPE',\n",
            "       'SPEEDING_VIOLATIONS', 'DUIS', 'PAST_ACCIDENTS', 'OUTCOME',\n",
            "       'DRIVING_EXPERIENCE_0-9y', 'DRIVING_EXPERIENCE_10-19y',\n",
            "       'DRIVING_EXPERIENCE_20-29y', 'DRIVING_EXPERIENCE_30y+',\n",
            "       'EDUCATION_high school', 'EDUCATION_none', 'EDUCATION_university',\n",
            "       'INCOME_middle class', 'INCOME_poverty', 'INCOME_upper class',\n",
            "       'INCOME_working class', 'AGE_16-25', 'AGE_26-39', 'AGE_40-64',\n",
            "       'AGE_65+', 'POSTAL_CODE_10238', 'POSTAL_CODE_21217',\n",
            "       'POSTAL_CODE_32765', 'POSTAL_CODE_92101'],\n",
            "      dtype='object')\n"
          ]
        }
      ],
      "source": [
        "data = pd.get_dummies(data, columns = nom_categories)\n",
        "print(data.columns)"
      ]
    },
    {
      "cell_type": "markdown",
      "source": [
        "## Формирование data и target"
      ],
      "metadata": {
        "id": "yZijeIzz439A"
      }
    },
    {
      "cell_type": "markdown",
      "metadata": {
        "id": "47gZCUSlxcxd"
      },
      "source": [
        "Тут же отделим основную часть таблицы от целевой - target, которой будет являться столбец `OUTCOME`:"
      ]
    },
    {
      "cell_type": "code",
      "execution_count": 31,
      "metadata": {
        "colab": {
          "base_uri": "https://localhost:8080/",
          "height": 505
        },
        "id": "oHBIRtrdxIxm",
        "outputId": "d8f07661-a637-4c58-b022-d3282220dbc3"
      },
      "outputs": [
        {
          "output_type": "execute_result",
          "data": {
            "text/plain": [
              "     GENDER RACE  CREDIT_SCORE  VEHICLE_OWNERSHIP VEHICLE_YEAR  MARRIED  \\\n",
              "0         0    0      0.860650                  1            0        0   \n",
              "1         1    0     -1.210232                  0            1        0   \n",
              "2         0    0     -0.176673                  1            1        0   \n",
              "3         1    0     -2.368651                  1            1        0   \n",
              "4         1    0     -0.976565                  1            1        0   \n",
              "...     ...  ...           ...                ...          ...      ...   \n",
              "9995      0    0      0.507651                  1            1        0   \n",
              "9996      0    0      0.045368                  1            0        0   \n",
              "9997      1    0     -0.346190                  1            1        0   \n",
              "9998      0    0     -1.161164                  0            1        0   \n",
              "9999      0    0     -0.618843                  1            1        1   \n",
              "\n",
              "      CHILDREN  ANNUAL_MILEAGE VEHICLE_TYPE  SPEEDING_VIOLATIONS  ...  \\\n",
              "0            1        0.100985            0            -0.684194  ...   \n",
              "1            0        1.611447            0            -0.684194  ...   \n",
              "2            0       -0.276631            0            -0.684194  ...   \n",
              "3            1       -0.276631            0            -0.684194  ...   \n",
              "4            0        0.100985            0             0.280500  ...   \n",
              "...        ...             ...          ...                  ...  ...   \n",
              "9995         0        1.611447            0            -0.684194  ...   \n",
              "9996         1        0.100985            0            -0.201847  ...   \n",
              "9997         1        0.856216            0            -0.684194  ...   \n",
              "9998         1        0.478600            0             0.280500  ...   \n",
              "9999         1        0.478600            0            -0.684194  ...   \n",
              "\n",
              "      INCOME_upper class  INCOME_working class  AGE_16-25  AGE_26-39  \\\n",
              "0                      1                     0          0          0   \n",
              "1                      0                     0          1          0   \n",
              "2                      0                     1          1          0   \n",
              "3                      0                     1          1          0   \n",
              "4                      0                     1          0          1   \n",
              "...                  ...                   ...        ...        ...   \n",
              "9995                   1                     0          0          1   \n",
              "9996                   0                     0          0          1   \n",
              "9997                   0                     0          0          1   \n",
              "9998                   0                     0          0          1   \n",
              "9999                   0                     1          0          1   \n",
              "\n",
              "      AGE_40-64  AGE_65+  POSTAL_CODE_10238  POSTAL_CODE_21217  \\\n",
              "0             0        1                  1                  0   \n",
              "1             0        0                  1                  0   \n",
              "2             0        0                  1                  0   \n",
              "3             0        0                  0                  0   \n",
              "4             0        0                  0                  0   \n",
              "...         ...      ...                ...                ...   \n",
              "9995          0        0                  1                  0   \n",
              "9996          0        0                  0                  0   \n",
              "9997          0        0                  1                  0   \n",
              "9998          0        0                  1                  0   \n",
              "9999          0        0                  1                  0   \n",
              "\n",
              "      POSTAL_CODE_32765  POSTAL_CODE_92101  \n",
              "0                     0                  0  \n",
              "1                     0                  0  \n",
              "2                     0                  0  \n",
              "3                     1                  0  \n",
              "4                     1                  0  \n",
              "...                 ...                ...  \n",
              "9995                  0                  0  \n",
              "9996                  1                  0  \n",
              "9997                  0                  0  \n",
              "9998                  0                  0  \n",
              "9999                  0                  0  \n",
              "\n",
              "[9898 rows x 31 columns]"
            ],
            "text/html": [
              "\n",
              "  <div id=\"df-dd7d602b-3396-47a8-a7f3-ad093f8317fc\">\n",
              "    <div class=\"colab-df-container\">\n",
              "      <div>\n",
              "<style scoped>\n",
              "    .dataframe tbody tr th:only-of-type {\n",
              "        vertical-align: middle;\n",
              "    }\n",
              "\n",
              "    .dataframe tbody tr th {\n",
              "        vertical-align: top;\n",
              "    }\n",
              "\n",
              "    .dataframe thead th {\n",
              "        text-align: right;\n",
              "    }\n",
              "</style>\n",
              "<table border=\"1\" class=\"dataframe\">\n",
              "  <thead>\n",
              "    <tr style=\"text-align: right;\">\n",
              "      <th></th>\n",
              "      <th>GENDER</th>\n",
              "      <th>RACE</th>\n",
              "      <th>CREDIT_SCORE</th>\n",
              "      <th>VEHICLE_OWNERSHIP</th>\n",
              "      <th>VEHICLE_YEAR</th>\n",
              "      <th>MARRIED</th>\n",
              "      <th>CHILDREN</th>\n",
              "      <th>ANNUAL_MILEAGE</th>\n",
              "      <th>VEHICLE_TYPE</th>\n",
              "      <th>SPEEDING_VIOLATIONS</th>\n",
              "      <th>...</th>\n",
              "      <th>INCOME_upper class</th>\n",
              "      <th>INCOME_working class</th>\n",
              "      <th>AGE_16-25</th>\n",
              "      <th>AGE_26-39</th>\n",
              "      <th>AGE_40-64</th>\n",
              "      <th>AGE_65+</th>\n",
              "      <th>POSTAL_CODE_10238</th>\n",
              "      <th>POSTAL_CODE_21217</th>\n",
              "      <th>POSTAL_CODE_32765</th>\n",
              "      <th>POSTAL_CODE_92101</th>\n",
              "    </tr>\n",
              "  </thead>\n",
              "  <tbody>\n",
              "    <tr>\n",
              "      <th>0</th>\n",
              "      <td>0</td>\n",
              "      <td>0</td>\n",
              "      <td>0.860650</td>\n",
              "      <td>1</td>\n",
              "      <td>0</td>\n",
              "      <td>0</td>\n",
              "      <td>1</td>\n",
              "      <td>0.100985</td>\n",
              "      <td>0</td>\n",
              "      <td>-0.684194</td>\n",
              "      <td>...</td>\n",
              "      <td>1</td>\n",
              "      <td>0</td>\n",
              "      <td>0</td>\n",
              "      <td>0</td>\n",
              "      <td>0</td>\n",
              "      <td>1</td>\n",
              "      <td>1</td>\n",
              "      <td>0</td>\n",
              "      <td>0</td>\n",
              "      <td>0</td>\n",
              "    </tr>\n",
              "    <tr>\n",
              "      <th>1</th>\n",
              "      <td>1</td>\n",
              "      <td>0</td>\n",
              "      <td>-1.210232</td>\n",
              "      <td>0</td>\n",
              "      <td>1</td>\n",
              "      <td>0</td>\n",
              "      <td>0</td>\n",
              "      <td>1.611447</td>\n",
              "      <td>0</td>\n",
              "      <td>-0.684194</td>\n",
              "      <td>...</td>\n",
              "      <td>0</td>\n",
              "      <td>0</td>\n",
              "      <td>1</td>\n",
              "      <td>0</td>\n",
              "      <td>0</td>\n",
              "      <td>0</td>\n",
              "      <td>1</td>\n",
              "      <td>0</td>\n",
              "      <td>0</td>\n",
              "      <td>0</td>\n",
              "    </tr>\n",
              "    <tr>\n",
              "      <th>2</th>\n",
              "      <td>0</td>\n",
              "      <td>0</td>\n",
              "      <td>-0.176673</td>\n",
              "      <td>1</td>\n",
              "      <td>1</td>\n",
              "      <td>0</td>\n",
              "      <td>0</td>\n",
              "      <td>-0.276631</td>\n",
              "      <td>0</td>\n",
              "      <td>-0.684194</td>\n",
              "      <td>...</td>\n",
              "      <td>0</td>\n",
              "      <td>1</td>\n",
              "      <td>1</td>\n",
              "      <td>0</td>\n",
              "      <td>0</td>\n",
              "      <td>0</td>\n",
              "      <td>1</td>\n",
              "      <td>0</td>\n",
              "      <td>0</td>\n",
              "      <td>0</td>\n",
              "    </tr>\n",
              "    <tr>\n",
              "      <th>3</th>\n",
              "      <td>1</td>\n",
              "      <td>0</td>\n",
              "      <td>-2.368651</td>\n",
              "      <td>1</td>\n",
              "      <td>1</td>\n",
              "      <td>0</td>\n",
              "      <td>1</td>\n",
              "      <td>-0.276631</td>\n",
              "      <td>0</td>\n",
              "      <td>-0.684194</td>\n",
              "      <td>...</td>\n",
              "      <td>0</td>\n",
              "      <td>1</td>\n",
              "      <td>1</td>\n",
              "      <td>0</td>\n",
              "      <td>0</td>\n",
              "      <td>0</td>\n",
              "      <td>0</td>\n",
              "      <td>0</td>\n",
              "      <td>1</td>\n",
              "      <td>0</td>\n",
              "    </tr>\n",
              "    <tr>\n",
              "      <th>4</th>\n",
              "      <td>1</td>\n",
              "      <td>0</td>\n",
              "      <td>-0.976565</td>\n",
              "      <td>1</td>\n",
              "      <td>1</td>\n",
              "      <td>0</td>\n",
              "      <td>0</td>\n",
              "      <td>0.100985</td>\n",
              "      <td>0</td>\n",
              "      <td>0.280500</td>\n",
              "      <td>...</td>\n",
              "      <td>0</td>\n",
              "      <td>1</td>\n",
              "      <td>0</td>\n",
              "      <td>1</td>\n",
              "      <td>0</td>\n",
              "      <td>0</td>\n",
              "      <td>0</td>\n",
              "      <td>0</td>\n",
              "      <td>1</td>\n",
              "      <td>0</td>\n",
              "    </tr>\n",
              "    <tr>\n",
              "      <th>...</th>\n",
              "      <td>...</td>\n",
              "      <td>...</td>\n",
              "      <td>...</td>\n",
              "      <td>...</td>\n",
              "      <td>...</td>\n",
              "      <td>...</td>\n",
              "      <td>...</td>\n",
              "      <td>...</td>\n",
              "      <td>...</td>\n",
              "      <td>...</td>\n",
              "      <td>...</td>\n",
              "      <td>...</td>\n",
              "      <td>...</td>\n",
              "      <td>...</td>\n",
              "      <td>...</td>\n",
              "      <td>...</td>\n",
              "      <td>...</td>\n",
              "      <td>...</td>\n",
              "      <td>...</td>\n",
              "      <td>...</td>\n",
              "      <td>...</td>\n",
              "    </tr>\n",
              "    <tr>\n",
              "      <th>9995</th>\n",
              "      <td>0</td>\n",
              "      <td>0</td>\n",
              "      <td>0.507651</td>\n",
              "      <td>1</td>\n",
              "      <td>1</td>\n",
              "      <td>0</td>\n",
              "      <td>0</td>\n",
              "      <td>1.611447</td>\n",
              "      <td>0</td>\n",
              "      <td>-0.684194</td>\n",
              "      <td>...</td>\n",
              "      <td>1</td>\n",
              "      <td>0</td>\n",
              "      <td>0</td>\n",
              "      <td>1</td>\n",
              "      <td>0</td>\n",
              "      <td>0</td>\n",
              "      <td>1</td>\n",
              "      <td>0</td>\n",
              "      <td>0</td>\n",
              "      <td>0</td>\n",
              "    </tr>\n",
              "    <tr>\n",
              "      <th>9996</th>\n",
              "      <td>0</td>\n",
              "      <td>0</td>\n",
              "      <td>0.045368</td>\n",
              "      <td>1</td>\n",
              "      <td>0</td>\n",
              "      <td>0</td>\n",
              "      <td>1</td>\n",
              "      <td>0.100985</td>\n",
              "      <td>0</td>\n",
              "      <td>-0.201847</td>\n",
              "      <td>...</td>\n",
              "      <td>0</td>\n",
              "      <td>0</td>\n",
              "      <td>0</td>\n",
              "      <td>1</td>\n",
              "      <td>0</td>\n",
              "      <td>0</td>\n",
              "      <td>0</td>\n",
              "      <td>0</td>\n",
              "      <td>1</td>\n",
              "      <td>0</td>\n",
              "    </tr>\n",
              "    <tr>\n",
              "      <th>9997</th>\n",
              "      <td>1</td>\n",
              "      <td>0</td>\n",
              "      <td>-0.346190</td>\n",
              "      <td>1</td>\n",
              "      <td>1</td>\n",
              "      <td>0</td>\n",
              "      <td>1</td>\n",
              "      <td>0.856216</td>\n",
              "      <td>0</td>\n",
              "      <td>-0.684194</td>\n",
              "      <td>...</td>\n",
              "      <td>0</td>\n",
              "      <td>0</td>\n",
              "      <td>0</td>\n",
              "      <td>1</td>\n",
              "      <td>0</td>\n",
              "      <td>0</td>\n",
              "      <td>1</td>\n",
              "      <td>0</td>\n",
              "      <td>0</td>\n",
              "      <td>0</td>\n",
              "    </tr>\n",
              "    <tr>\n",
              "      <th>9998</th>\n",
              "      <td>0</td>\n",
              "      <td>0</td>\n",
              "      <td>-1.161164</td>\n",
              "      <td>0</td>\n",
              "      <td>1</td>\n",
              "      <td>0</td>\n",
              "      <td>1</td>\n",
              "      <td>0.478600</td>\n",
              "      <td>0</td>\n",
              "      <td>0.280500</td>\n",
              "      <td>...</td>\n",
              "      <td>0</td>\n",
              "      <td>0</td>\n",
              "      <td>0</td>\n",
              "      <td>1</td>\n",
              "      <td>0</td>\n",
              "      <td>0</td>\n",
              "      <td>1</td>\n",
              "      <td>0</td>\n",
              "      <td>0</td>\n",
              "      <td>0</td>\n",
              "    </tr>\n",
              "    <tr>\n",
              "      <th>9999</th>\n",
              "      <td>0</td>\n",
              "      <td>0</td>\n",
              "      <td>-0.618843</td>\n",
              "      <td>1</td>\n",
              "      <td>1</td>\n",
              "      <td>1</td>\n",
              "      <td>1</td>\n",
              "      <td>0.478600</td>\n",
              "      <td>0</td>\n",
              "      <td>-0.684194</td>\n",
              "      <td>...</td>\n",
              "      <td>0</td>\n",
              "      <td>1</td>\n",
              "      <td>0</td>\n",
              "      <td>1</td>\n",
              "      <td>0</td>\n",
              "      <td>0</td>\n",
              "      <td>1</td>\n",
              "      <td>0</td>\n",
              "      <td>0</td>\n",
              "      <td>0</td>\n",
              "    </tr>\n",
              "  </tbody>\n",
              "</table>\n",
              "<p>9898 rows × 31 columns</p>\n",
              "</div>\n",
              "      <button class=\"colab-df-convert\" onclick=\"convertToInteractive('df-dd7d602b-3396-47a8-a7f3-ad093f8317fc')\"\n",
              "              title=\"Convert this dataframe to an interactive table.\"\n",
              "              style=\"display:none;\">\n",
              "        \n",
              "  <svg xmlns=\"http://www.w3.org/2000/svg\" height=\"24px\"viewBox=\"0 0 24 24\"\n",
              "       width=\"24px\">\n",
              "    <path d=\"M0 0h24v24H0V0z\" fill=\"none\"/>\n",
              "    <path d=\"M18.56 5.44l.94 2.06.94-2.06 2.06-.94-2.06-.94-.94-2.06-.94 2.06-2.06.94zm-11 1L8.5 8.5l.94-2.06 2.06-.94-2.06-.94L8.5 2.5l-.94 2.06-2.06.94zm10 10l.94 2.06.94-2.06 2.06-.94-2.06-.94-.94-2.06-.94 2.06-2.06.94z\"/><path d=\"M17.41 7.96l-1.37-1.37c-.4-.4-.92-.59-1.43-.59-.52 0-1.04.2-1.43.59L10.3 9.45l-7.72 7.72c-.78.78-.78 2.05 0 2.83L4 21.41c.39.39.9.59 1.41.59.51 0 1.02-.2 1.41-.59l7.78-7.78 2.81-2.81c.8-.78.8-2.07 0-2.86zM5.41 20L4 18.59l7.72-7.72 1.47 1.35L5.41 20z\"/>\n",
              "  </svg>\n",
              "      </button>\n",
              "      \n",
              "  <style>\n",
              "    .colab-df-container {\n",
              "      display:flex;\n",
              "      flex-wrap:wrap;\n",
              "      gap: 12px;\n",
              "    }\n",
              "\n",
              "    .colab-df-convert {\n",
              "      background-color: #E8F0FE;\n",
              "      border: none;\n",
              "      border-radius: 50%;\n",
              "      cursor: pointer;\n",
              "      display: none;\n",
              "      fill: #1967D2;\n",
              "      height: 32px;\n",
              "      padding: 0 0 0 0;\n",
              "      width: 32px;\n",
              "    }\n",
              "\n",
              "    .colab-df-convert:hover {\n",
              "      background-color: #E2EBFA;\n",
              "      box-shadow: 0px 1px 2px rgba(60, 64, 67, 0.3), 0px 1px 3px 1px rgba(60, 64, 67, 0.15);\n",
              "      fill: #174EA6;\n",
              "    }\n",
              "\n",
              "    [theme=dark] .colab-df-convert {\n",
              "      background-color: #3B4455;\n",
              "      fill: #D2E3FC;\n",
              "    }\n",
              "\n",
              "    [theme=dark] .colab-df-convert:hover {\n",
              "      background-color: #434B5C;\n",
              "      box-shadow: 0px 1px 3px 1px rgba(0, 0, 0, 0.15);\n",
              "      filter: drop-shadow(0px 1px 2px rgba(0, 0, 0, 0.3));\n",
              "      fill: #FFFFFF;\n",
              "    }\n",
              "  </style>\n",
              "\n",
              "      <script>\n",
              "        const buttonEl =\n",
              "          document.querySelector('#df-dd7d602b-3396-47a8-a7f3-ad093f8317fc button.colab-df-convert');\n",
              "        buttonEl.style.display =\n",
              "          google.colab.kernel.accessAllowed ? 'block' : 'none';\n",
              "\n",
              "        async function convertToInteractive(key) {\n",
              "          const element = document.querySelector('#df-dd7d602b-3396-47a8-a7f3-ad093f8317fc');\n",
              "          const dataTable =\n",
              "            await google.colab.kernel.invokeFunction('convertToInteractive',\n",
              "                                                     [key], {});\n",
              "          if (!dataTable) return;\n",
              "\n",
              "          const docLinkHtml = 'Like what you see? Visit the ' +\n",
              "            '<a target=\"_blank\" href=https://colab.research.google.com/notebooks/data_table.ipynb>data table notebook</a>'\n",
              "            + ' to learn more about interactive tables.';\n",
              "          element.innerHTML = '';\n",
              "          dataTable['output_type'] = 'display_data';\n",
              "          await google.colab.output.renderOutput(dataTable, element);\n",
              "          const docLink = document.createElement('div');\n",
              "          docLink.innerHTML = docLinkHtml;\n",
              "          element.appendChild(docLink);\n",
              "        }\n",
              "      </script>\n",
              "    </div>\n",
              "  </div>\n",
              "  "
            ]
          },
          "metadata": {},
          "execution_count": 31
        }
      ],
      "source": [
        "target = data['OUTCOME']\n",
        "data.drop(columns=['OUTCOME'], axis=1, inplace=True)\n",
        "data"
      ]
    },
    {
      "cell_type": "markdown",
      "source": [
        "# Обучение"
      ],
      "metadata": {
        "id": "oW_Gtib-VQPl"
      }
    },
    {
      "cell_type": "markdown",
      "source": [
        "Разделение данных на обучающую и тестовую выборки:"
      ],
      "metadata": {
        "id": "phly4rQzVcir"
      }
    },
    {
      "cell_type": "code",
      "execution_count": 32,
      "metadata": {
        "id": "aT-DE0DoyF6H",
        "colab": {
          "base_uri": "https://localhost:8080/"
        },
        "outputId": "de7dc708-bee9-4597-f55c-5a4e71bbc773"
      },
      "outputs": [
        {
          "output_type": "execute_result",
          "data": {
            "text/plain": [
              "(9898, 31)"
            ]
          },
          "metadata": {},
          "execution_count": 32
        }
      ],
      "source": [
        "X = data\n",
        "y = target\n",
        "N, d = X.shape\n",
        "N, d"
      ]
    },
    {
      "cell_type": "markdown",
      "source": [
        "Разобьем данные на обучающую и тестовую выборки в пропорции 9:1:"
      ],
      "metadata": {
        "id": "lLwM-hx4VtYw"
      }
    },
    {
      "cell_type": "code",
      "source": [
        "from sklearn.model_selection import train_test_split"
      ],
      "metadata": {
        "id": "f6y7picTWCx8"
      },
      "execution_count": 33,
      "outputs": []
    },
    {
      "cell_type": "code",
      "source": [
        "X_train, X_test, y_train, y_test = train_test_split(X, y, test_size = 0.1, random_state = 27)\n",
        "\n",
        "N_train, _ = X_train.shape\n",
        "N_test, _ = X_test.shape\n",
        "\n",
        "N_train, N_test"
      ],
      "metadata": {
        "colab": {
          "base_uri": "https://localhost:8080/"
        },
        "id": "-g9ctEHdVv0n",
        "outputId": "65ee9ff9-9fac-4b34-e6e6-248bc5444881"
      },
      "execution_count": 34,
      "outputs": [
        {
          "output_type": "execute_result",
          "data": {
            "text/plain": [
              "(8908, 990)"
            ]
          },
          "metadata": {},
          "execution_count": 34
        }
      ]
    },
    {
      "cell_type": "markdown",
      "source": [
        "## Метод k-ближайших соседей (kNN)"
      ],
      "metadata": {
        "id": "ZtqPT-2rW5_5"
      }
    },
    {
      "cell_type": "code",
      "source": [
        "import sklearn\n",
        "from sklearn.model_selection import GridSearchCV\n",
        "from sklearn.neighbors import KNeighborsClassifier"
      ],
      "metadata": {
        "id": "bfL-pWZqX2nL"
      },
      "execution_count": 35,
      "outputs": []
    },
    {
      "cell_type": "markdown",
      "source": [
        "Переберём значения параметра k в этом алгоритме от 1 до 27. Будем вычислять ошибку кросс-валидации. Наименьшая ошибка покажет нам наилуший выбор параметра k для метода."
      ],
      "metadata": {
        "id": "1ITiWt2EW_z3"
      }
    },
    {
      "cell_type": "code",
      "source": [
        "from sklearn.metrics import accuracy_score"
      ],
      "metadata": {
        "id": "wqQoWNNfZXBY"
      },
      "execution_count": 36,
      "outputs": []
    },
    {
      "cell_type": "code",
      "source": [
        "%%time\n",
        "grid = GridSearchCV(KNeighborsClassifier(), param_grid = {'n_neighbors': range(1, 28)})\n",
        "grid.fit(X_train, y_train)\n",
        "\n",
        "best_cv_err = 1 - grid.best_score_\n",
        "best_n_neighbors = grid.best_estimator_.n_neighbors\n",
        "\n",
        "print('Ошибка на кросс-валидации: ', best_cv_err)\n",
        "print('Оптимальное количество соседей: ', best_n_neighbors)"
      ],
      "metadata": {
        "colab": {
          "base_uri": "https://localhost:8080/"
        },
        "id": "kAZCet8hW78I",
        "outputId": "1e013591-0451-43e2-ae6f-e56c1e5ae8ac"
      },
      "execution_count": 37,
      "outputs": [
        {
          "output_type": "stream",
          "name": "stdout",
          "text": [
            "Ошибка на кросс-валидации:  0.18331956409815287\n",
            "Оптимальное количество соседей:  17\n",
            "CPU times: user 57 s, sys: 12.8 s, total: 1min 9s\n",
            "Wall time: 1min\n"
          ]
        }
      ]
    },
    {
      "cell_type": "markdown",
      "source": [
        "Обучим и запустим метод kNN для оптимального среди рассмотренных количества соседей best_n_neighbors = 17:"
      ],
      "metadata": {
        "id": "sU3HQB-jgexa"
      }
    },
    {
      "cell_type": "code",
      "source": [
        "%%time\n",
        "knn = KNeighborsClassifier()\n",
        "\n",
        "knn.set_params(n_neighbors = best_n_neighbors)\n",
        "knn.fit(X_train, y_train)\n",
        "\n",
        "err_train = np.mean(y_train != knn.predict(X_train))\n",
        "err_test  = np.mean(y_test  != knn.predict(X_test))\n",
        "acc_train = accuracy_score(y_true=y_train, y_pred=knn.predict(X_train))\n",
        "acc_test = accuracy_score(y_true=y_test, y_pred=knn.predict(X_test))\n",
        "\n",
        "print(f'''\n",
        "Точность на обучающей выборке: {acc_train}\n",
        "Точность на тестовой выборке: {acc_test}\n",
        "Ошибка на обучающей выборке: {err_train}\n",
        "Ошибка на тестовой выборке: {err_test}\n",
        "''')"
      ],
      "metadata": {
        "colab": {
          "base_uri": "https://localhost:8080/"
        },
        "id": "wpi1y8WSY5Ys",
        "outputId": "58af43a0-ca56-48d0-91e1-36adcf4190ee"
      },
      "execution_count": 38,
      "outputs": [
        {
          "output_type": "stream",
          "name": "stdout",
          "text": [
            "\n",
            "Точность на обучающей выборке: 0.8372249663224068\n",
            "Точность на тестовой выборке: 0.8090909090909091\n",
            "Ошибка на обучающей выборке: 0.16277503367759316\n",
            "Ошибка на тестовой выборке: 0.19090909090909092\n",
            "\n",
            "CPU times: user 4.63 s, sys: 855 ms, total: 5.49 s\n",
            "Wall time: 4.41 s\n"
          ]
        }
      ]
    },
    {
      "cell_type": "markdown",
      "source": [
        "## SVC"
      ],
      "metadata": {
        "id": "Lk5jH9MJqJdj"
      }
    },
    {
      "cell_type": "code",
      "source": [
        "from sklearn.svm import SVC"
      ],
      "metadata": {
        "id": "-CLu9XjerF-q"
      },
      "execution_count": 39,
      "outputs": []
    },
    {
      "cell_type": "code",
      "source": [
        "%%time\n",
        "svc = SVC(gamma = 'auto')\n",
        "svc.fit(X_train, y_train)\n",
        "\n",
        "err_train = np.mean(y_train != svc.predict(X_train))\n",
        "err_test  = np.mean(y_test  != svc.predict(X_test))\n",
        "acc_train = accuracy_score(y_true=y_train, y_pred=svc.predict(X_train))\n",
        "acc_test = accuracy_score(y_true=y_test, y_pred=svc.predict(X_test))\n",
        "\n",
        "print(f'''\n",
        "Ошибка на обучающей выборке: {err_train}\n",
        "Ошибка на тестовой выборке: {err_test}\n",
        "''')"
      ],
      "metadata": {
        "colab": {
          "base_uri": "https://localhost:8080/"
        },
        "id": "bU2XKhcop8XS",
        "outputId": "b036f88f-547b-4cc9-9f8b-9384e5203c4d"
      },
      "execution_count": 40,
      "outputs": [
        {
          "output_type": "stream",
          "name": "stdout",
          "text": [
            "\n",
            "Ошибка на обучающей выборке: 0.1425684777727885\n",
            "Ошибка на тестовой выборке: 0.16767676767676767\n",
            "\n",
            "CPU times: user 9.44 s, sys: 55.5 ms, total: 9.5 s\n",
            "Wall time: 9.47 s\n"
          ]
        }
      ]
    },
    {
      "cell_type": "markdown",
      "source": [
        "## Random Forest"
      ],
      "metadata": {
        "id": "7bcl7-dXqbOb"
      }
    },
    {
      "cell_type": "code",
      "source": [
        "from sklearn import ensemble"
      ],
      "metadata": {
        "id": "Lb3yM_wbrI1Y"
      },
      "execution_count": 41,
      "outputs": []
    },
    {
      "cell_type": "code",
      "source": [
        "%%time\n",
        "rf = ensemble.RandomForestClassifier(n_estimators = 100)\n",
        "rf.fit(X_train, y_train)\n",
        "\n",
        "err_train = np.mean(y_train != rf.predict(X_train))\n",
        "err_test  = np.mean(y_test  != rf.predict(X_test))\n",
        "acc_train = accuracy_score(y_true=y_train, y_pred=rf.predict(X_train))\n",
        "acc_test = accuracy_score(y_true=y_test, y_pred=rf.predict(X_test))\n",
        "\n",
        "print(f'''\n",
        "Ошибка на обучающей выборке: {err_train}\n",
        "Ошибка на тестовой выборке: {err_test}\n",
        "''')"
      ],
      "metadata": {
        "colab": {
          "base_uri": "https://localhost:8080/"
        },
        "id": "bJUvNVgDp8eM",
        "outputId": "4b4d713f-a72b-4f8b-923a-3cc77b9a15e6"
      },
      "execution_count": 42,
      "outputs": [
        {
          "output_type": "stream",
          "name": "stdout",
          "text": [
            "\n",
            "Ошибка на обучающей выборке: 0.000449034575662326\n",
            "Ошибка на тестовой выборке: 0.17474747474747473\n",
            "\n",
            "CPU times: user 1.41 s, sys: 4.45 ms, total: 1.42 s\n",
            "Wall time: 1.42 s\n"
          ]
        }
      ]
    },
    {
      "cell_type": "markdown",
      "source": [
        "## Extremely Randomized Trees"
      ],
      "metadata": {
        "id": "E7UILZw6qYTL"
      }
    },
    {
      "cell_type": "code",
      "source": [
        "%%time\n",
        "ert = ensemble.ExtraTreesClassifier(n_estimators = 100).fit(X_train, y_train)\n",
        "\n",
        "err_train = np.mean(y_train != ert.predict(X_train))\n",
        "err_test  = np.mean(y_test  != ert.predict(X_test))\n",
        "acc_train = accuracy_score(y_true=y_train, y_pred=ert.predict(X_train))\n",
        "acc_test = accuracy_score(y_true=y_test, y_pred=ert.predict(X_test))\n",
        "\n",
        "print(f'''\n",
        "Ошибка на обучающей выборке: {err_train}\n",
        "Ошибка на тестовой выборке: {err_test}\n",
        "''')"
      ],
      "metadata": {
        "colab": {
          "base_uri": "https://localhost:8080/"
        },
        "id": "MHFF2tBvp8hn",
        "outputId": "c925cdb7-8a8b-4fe6-d5da-05c8969717c4"
      },
      "execution_count": 43,
      "outputs": [
        {
          "output_type": "stream",
          "name": "stdout",
          "text": [
            "\n",
            "Ошибка на обучающей выборке: 0.000449034575662326\n",
            "Ошибка на тестовой выборке: 0.18787878787878787\n",
            "\n",
            "CPU times: user 1.53 s, sys: 11.9 ms, total: 1.54 s\n",
            "Wall time: 1.54 s\n"
          ]
        }
      ]
    },
    {
      "cell_type": "markdown",
      "source": [
        "## AdaBoost"
      ],
      "metadata": {
        "id": "Y0lKGnLrqpBw"
      }
    },
    {
      "cell_type": "code",
      "source": [
        "%%time\n",
        "ada = ensemble.AdaBoostClassifier(n_estimators = 100)\n",
        "ada.fit(X_train, y_train)\n",
        "\n",
        "err_train = np.mean(y_train != ada.predict(X_train))\n",
        "err_test  = np.mean(y_test  != ada.predict(X_test))\n",
        "acc_train = accuracy_score(y_true=y_train, y_pred=ada.predict(X_train))\n",
        "acc_test = accuracy_score(y_true=y_test, y_pred=ada.predict(X_test))\n",
        "\n",
        "print(f'''\n",
        "Ошибка на обучающей выборке: {err_train}\n",
        "Ошибка на тестовой выборке: {err_test}\n",
        "''')"
      ],
      "metadata": {
        "colab": {
          "base_uri": "https://localhost:8080/"
        },
        "id": "FJq3JbTPqDXt",
        "outputId": "87710cf5-e2bb-493c-9f19-12bd6bd8e427"
      },
      "execution_count": 44,
      "outputs": [
        {
          "output_type": "stream",
          "name": "stdout",
          "text": [
            "\n",
            "Ошибка на обучающей выборке: 0.14739559946115852\n",
            "Ошибка на тестовой выборке: 0.1787878787878788\n",
            "\n",
            "CPU times: user 5.86 s, sys: 74.8 ms, total: 5.94 s\n",
            "Wall time: 5.93 s\n"
          ]
        }
      ]
    },
    {
      "cell_type": "markdown",
      "source": [
        "## GBT"
      ],
      "metadata": {
        "id": "e7VRlfgkqrQv"
      }
    },
    {
      "cell_type": "code",
      "source": [
        "%%time\n",
        "gbt = ensemble.GradientBoostingClassifier(n_estimators = 100)\n",
        "gbt.fit(X_train, y_train)\n",
        "\n",
        "err_train = np.mean(y_train != gbt.predict(X_train))\n",
        "err_test  = np.mean(y_test  != gbt.predict(X_test))\n",
        "acc_train = accuracy_score(y_true=y_train, y_pred=gbt.predict(X_train))\n",
        "acc_test = accuracy_score(y_true=y_test, y_pred=gbt.predict(X_test))\n",
        "\n",
        "print(f'''\n",
        "Ошибка на обучающей выборке: {err_train}\n",
        "Ошибка на тестовой выборке: {err_test}\n",
        "''')"
      ],
      "metadata": {
        "colab": {
          "base_uri": "https://localhost:8080/"
        },
        "id": "mVsJ2-iIqDco",
        "outputId": "b72f057a-59ae-41a6-a98c-961f1ecdcd6e"
      },
      "execution_count": 45,
      "outputs": [
        {
          "output_type": "stream",
          "name": "stdout",
          "text": [
            "\n",
            "Ошибка на обучающей выборке: 0.13718006286484058\n",
            "Ошибка на тестовой выборке: 0.1595959595959596\n",
            "\n",
            "CPU times: user 1.41 s, sys: 5.21 ms, total: 1.41 s\n",
            "Wall time: 1.41 s\n"
          ]
        }
      ]
    },
    {
      "cell_type": "markdown",
      "source": [
        "## Выводы о результатах классификации"
      ],
      "metadata": {
        "id": "KQlMZdsNsazJ"
      }
    },
    {
      "cell_type": "markdown",
      "source": [
        "\n",
        "\n",
        "*   **Метод kNN** - ошибка составила *~16.2%* на обучающей выборке и *~19%* на тестовой выборке. При выборе оптимального k = 17 (оптимальному по наименьшей ошибке кросс-валидации).\n",
        "*   **SVC** - ошибка составила *~14.2%* на обучающей выборке и *~16.7%* на тестовой выборке.\n",
        "*   **Random Forest** - ошибка составила *~0%* на обучающей выборке и *~17.1%* на тестовой выборке.\n",
        "*   **Extremely Randomized Trees** - ошибка составила *~0%* на обучающей выборке и *~18.5%* на тестовой выборке.\n",
        "*   **AdaBoost** - ошибка составила *~14.7%* на обучающей выборке и *~17.8%* на тестовой выборке.\n",
        "*   **GBT** - ошибка составила *~13.7%* на обучающей выборке и *~15.9%* на тестовой выборке.\n",
        "\n"
      ],
      "metadata": {
        "id": "QW2IISt_slKw"
      }
    },
    {
      "cell_type": "markdown",
      "source": [
        "# Выделение главных компонент"
      ],
      "metadata": {
        "id": "3r2k_Zp5i72U"
      }
    },
    {
      "cell_type": "markdown",
      "source": [
        "**Метод главных компонент (PCA)** нужен для уменьшения времени обучения над выборкой. Качество или не пострадает, или пострадает, но незначительно."
      ],
      "metadata": {
        "id": "S5VQ1zUBkHsI"
      }
    },
    {
      "cell_type": "markdown",
      "source": [
        "Как мы видим, коррелированных признаков не так уж и много:"
      ],
      "metadata": {
        "id": "iQj8wOzQkkZM"
      }
    },
    {
      "cell_type": "code",
      "source": [
        "new_data = pd.DataFrame(data = X)\n",
        "corr_mat = new_data.corr()\n",
        "corr_mat.where(np.triu(corr_mat > 0.5, k=1)).stack().sort_values(ascending = False)"
      ],
      "metadata": {
        "colab": {
          "base_uri": "https://localhost:8080/"
        },
        "id": "1tpb2pGKjCtq",
        "outputId": "0e060f3a-099b-4b8f-d674-67c0e25ed03d"
      },
      "execution_count": 46,
      "outputs": [
        {
          "output_type": "execute_result",
          "data": {
            "text/plain": [
              "DRIVING_EXPERIENCE_0-9y    AGE_16-25             0.678920\n",
              "DRIVING_EXPERIENCE_30y+    AGE_65+               0.676773\n",
              "DRIVING_EXPERIENCE_20-29y  AGE_40-64             0.638115\n",
              "DRIVING_EXPERIENCE_10-19y  AGE_26-39             0.630474\n",
              "CREDIT_SCORE               INCOME_upper class    0.594818\n",
              "dtype: float64"
            ]
          },
          "metadata": {},
          "execution_count": 46
        }
      ]
    },
    {
      "cell_type": "markdown",
      "source": [
        "Запустим метод главных компонент. Будем выбирать количество главных компонент таким образом, чтобы объясненная дисперсия была не меньше некоторого заданного уровня – 0.85."
      ],
      "metadata": {
        "id": "sbkL9aRDkvGy"
      }
    },
    {
      "cell_type": "code",
      "source": [
        "from sklearn.decomposition import PCA\n",
        "pca_model = PCA(n_components = 0.85)\n",
        "pca_model.fit(X)\n",
        "X_proj = pca_model.transform(X)\n",
        "print(X.shape)\n",
        "print(X_proj.shape)"
      ],
      "metadata": {
        "colab": {
          "base_uri": "https://localhost:8080/"
        },
        "id": "VN5zm5prlB-s",
        "outputId": "60c9cc11-871c-4e39-f7c1-1146b02f8cca"
      },
      "execution_count": 47,
      "outputs": [
        {
          "output_type": "stream",
          "name": "stdout",
          "text": [
            "(9898, 31)\n",
            "(9898, 13)\n"
          ]
        }
      ]
    },
    {
      "cell_type": "code",
      "source": [
        "new_data = pd.DataFrame(data = X_proj)\n",
        "new_data"
      ],
      "metadata": {
        "colab": {
          "base_uri": "https://localhost:8080/",
          "height": 424
        },
        "id": "G1D3gEU8lZCG",
        "outputId": "30eda3eb-e53e-478c-fa86-9c1132bf6e10"
      },
      "execution_count": 48,
      "outputs": [
        {
          "output_type": "execute_result",
          "data": {
            "text/plain": [
              "            0         1         2         3         4         5         6   \\\n",
              "0    -0.425943 -1.469573 -0.338498  0.215849 -0.128183 -0.490162  0.547971   \n",
              "1    -2.515518  1.070027 -0.687398 -0.102039  0.297406 -0.886241 -0.555290   \n",
              "2    -1.370763 -0.284134  0.402536  0.113435 -0.247452 -0.517397  0.732288   \n",
              "3    -1.781791  1.102443  1.514395  0.080662 -0.023011 -0.674221 -1.025151   \n",
              "4    -0.682162  1.075145  0.555920 -0.272186  0.831176  1.083537 -0.430059   \n",
              "...        ...       ...       ...       ...       ...       ...       ...   \n",
              "9893 -0.845867 -0.695122 -1.803516 -0.159610  0.232829  0.953122 -0.728022   \n",
              "9894 -0.629236 -0.308703  0.396946  0.329851  0.664704  1.239991  0.012339   \n",
              "9895 -1.500537 -0.032025 -0.433014 -0.025942  0.039408  0.342242  0.597587   \n",
              "9896 -0.982248  1.149147  0.105406 -0.574756  0.348692  0.974595  0.377347   \n",
              "9897 -1.470084  0.017444  0.163290  0.002702 -0.280218  0.227660 -0.193518   \n",
              "\n",
              "            7         8         9         10        11        12  \n",
              "0     0.930879 -0.526467 -0.021811  0.387253 -0.011071  0.368820  \n",
              "1     0.190688  0.183991  0.312596 -0.477306 -0.564226  0.377762  \n",
              "2     0.540985  0.154453 -0.096538 -0.114522  0.121750 -0.832071  \n",
              "3    -0.188132  0.493608 -0.953720  0.668649  0.536118 -0.836309  \n",
              "4    -0.232660  0.787263  0.099290  0.498741 -0.275459 -0.480149  \n",
              "...        ...       ...       ...       ...       ...       ...  \n",
              "9893 -0.067415  0.062265  0.277648  0.475529  0.137997 -0.390125  \n",
              "9894 -0.329426  0.459478  0.560798  0.323028  0.704750  0.964772  \n",
              "9895  0.202626  0.079669 -0.854866 -0.646029  0.356188  0.066665  \n",
              "9896  0.211968 -0.638546  0.497533  0.106487 -0.232014  0.173699  \n",
              "9897 -0.012626 -0.536429  0.463888 -0.237604  0.192770 -0.683778  \n",
              "\n",
              "[9898 rows x 13 columns]"
            ],
            "text/html": [
              "\n",
              "  <div id=\"df-077f082d-6415-4a46-94e3-6e0b48f483a3\">\n",
              "    <div class=\"colab-df-container\">\n",
              "      <div>\n",
              "<style scoped>\n",
              "    .dataframe tbody tr th:only-of-type {\n",
              "        vertical-align: middle;\n",
              "    }\n",
              "\n",
              "    .dataframe tbody tr th {\n",
              "        vertical-align: top;\n",
              "    }\n",
              "\n",
              "    .dataframe thead th {\n",
              "        text-align: right;\n",
              "    }\n",
              "</style>\n",
              "<table border=\"1\" class=\"dataframe\">\n",
              "  <thead>\n",
              "    <tr style=\"text-align: right;\">\n",
              "      <th></th>\n",
              "      <th>0</th>\n",
              "      <th>1</th>\n",
              "      <th>2</th>\n",
              "      <th>3</th>\n",
              "      <th>4</th>\n",
              "      <th>5</th>\n",
              "      <th>6</th>\n",
              "      <th>7</th>\n",
              "      <th>8</th>\n",
              "      <th>9</th>\n",
              "      <th>10</th>\n",
              "      <th>11</th>\n",
              "      <th>12</th>\n",
              "    </tr>\n",
              "  </thead>\n",
              "  <tbody>\n",
              "    <tr>\n",
              "      <th>0</th>\n",
              "      <td>-0.425943</td>\n",
              "      <td>-1.469573</td>\n",
              "      <td>-0.338498</td>\n",
              "      <td>0.215849</td>\n",
              "      <td>-0.128183</td>\n",
              "      <td>-0.490162</td>\n",
              "      <td>0.547971</td>\n",
              "      <td>0.930879</td>\n",
              "      <td>-0.526467</td>\n",
              "      <td>-0.021811</td>\n",
              "      <td>0.387253</td>\n",
              "      <td>-0.011071</td>\n",
              "      <td>0.368820</td>\n",
              "    </tr>\n",
              "    <tr>\n",
              "      <th>1</th>\n",
              "      <td>-2.515518</td>\n",
              "      <td>1.070027</td>\n",
              "      <td>-0.687398</td>\n",
              "      <td>-0.102039</td>\n",
              "      <td>0.297406</td>\n",
              "      <td>-0.886241</td>\n",
              "      <td>-0.555290</td>\n",
              "      <td>0.190688</td>\n",
              "      <td>0.183991</td>\n",
              "      <td>0.312596</td>\n",
              "      <td>-0.477306</td>\n",
              "      <td>-0.564226</td>\n",
              "      <td>0.377762</td>\n",
              "    </tr>\n",
              "    <tr>\n",
              "      <th>2</th>\n",
              "      <td>-1.370763</td>\n",
              "      <td>-0.284134</td>\n",
              "      <td>0.402536</td>\n",
              "      <td>0.113435</td>\n",
              "      <td>-0.247452</td>\n",
              "      <td>-0.517397</td>\n",
              "      <td>0.732288</td>\n",
              "      <td>0.540985</td>\n",
              "      <td>0.154453</td>\n",
              "      <td>-0.096538</td>\n",
              "      <td>-0.114522</td>\n",
              "      <td>0.121750</td>\n",
              "      <td>-0.832071</td>\n",
              "    </tr>\n",
              "    <tr>\n",
              "      <th>3</th>\n",
              "      <td>-1.781791</td>\n",
              "      <td>1.102443</td>\n",
              "      <td>1.514395</td>\n",
              "      <td>0.080662</td>\n",
              "      <td>-0.023011</td>\n",
              "      <td>-0.674221</td>\n",
              "      <td>-1.025151</td>\n",
              "      <td>-0.188132</td>\n",
              "      <td>0.493608</td>\n",
              "      <td>-0.953720</td>\n",
              "      <td>0.668649</td>\n",
              "      <td>0.536118</td>\n",
              "      <td>-0.836309</td>\n",
              "    </tr>\n",
              "    <tr>\n",
              "      <th>4</th>\n",
              "      <td>-0.682162</td>\n",
              "      <td>1.075145</td>\n",
              "      <td>0.555920</td>\n",
              "      <td>-0.272186</td>\n",
              "      <td>0.831176</td>\n",
              "      <td>1.083537</td>\n",
              "      <td>-0.430059</td>\n",
              "      <td>-0.232660</td>\n",
              "      <td>0.787263</td>\n",
              "      <td>0.099290</td>\n",
              "      <td>0.498741</td>\n",
              "      <td>-0.275459</td>\n",
              "      <td>-0.480149</td>\n",
              "    </tr>\n",
              "    <tr>\n",
              "      <th>...</th>\n",
              "      <td>...</td>\n",
              "      <td>...</td>\n",
              "      <td>...</td>\n",
              "      <td>...</td>\n",
              "      <td>...</td>\n",
              "      <td>...</td>\n",
              "      <td>...</td>\n",
              "      <td>...</td>\n",
              "      <td>...</td>\n",
              "      <td>...</td>\n",
              "      <td>...</td>\n",
              "      <td>...</td>\n",
              "      <td>...</td>\n",
              "    </tr>\n",
              "    <tr>\n",
              "      <th>9893</th>\n",
              "      <td>-0.845867</td>\n",
              "      <td>-0.695122</td>\n",
              "      <td>-1.803516</td>\n",
              "      <td>-0.159610</td>\n",
              "      <td>0.232829</td>\n",
              "      <td>0.953122</td>\n",
              "      <td>-0.728022</td>\n",
              "      <td>-0.067415</td>\n",
              "      <td>0.062265</td>\n",
              "      <td>0.277648</td>\n",
              "      <td>0.475529</td>\n",
              "      <td>0.137997</td>\n",
              "      <td>-0.390125</td>\n",
              "    </tr>\n",
              "    <tr>\n",
              "      <th>9894</th>\n",
              "      <td>-0.629236</td>\n",
              "      <td>-0.308703</td>\n",
              "      <td>0.396946</td>\n",
              "      <td>0.329851</td>\n",
              "      <td>0.664704</td>\n",
              "      <td>1.239991</td>\n",
              "      <td>0.012339</td>\n",
              "      <td>-0.329426</td>\n",
              "      <td>0.459478</td>\n",
              "      <td>0.560798</td>\n",
              "      <td>0.323028</td>\n",
              "      <td>0.704750</td>\n",
              "      <td>0.964772</td>\n",
              "    </tr>\n",
              "    <tr>\n",
              "      <th>9895</th>\n",
              "      <td>-1.500537</td>\n",
              "      <td>-0.032025</td>\n",
              "      <td>-0.433014</td>\n",
              "      <td>-0.025942</td>\n",
              "      <td>0.039408</td>\n",
              "      <td>0.342242</td>\n",
              "      <td>0.597587</td>\n",
              "      <td>0.202626</td>\n",
              "      <td>0.079669</td>\n",
              "      <td>-0.854866</td>\n",
              "      <td>-0.646029</td>\n",
              "      <td>0.356188</td>\n",
              "      <td>0.066665</td>\n",
              "    </tr>\n",
              "    <tr>\n",
              "      <th>9896</th>\n",
              "      <td>-0.982248</td>\n",
              "      <td>1.149147</td>\n",
              "      <td>0.105406</td>\n",
              "      <td>-0.574756</td>\n",
              "      <td>0.348692</td>\n",
              "      <td>0.974595</td>\n",
              "      <td>0.377347</td>\n",
              "      <td>0.211968</td>\n",
              "      <td>-0.638546</td>\n",
              "      <td>0.497533</td>\n",
              "      <td>0.106487</td>\n",
              "      <td>-0.232014</td>\n",
              "      <td>0.173699</td>\n",
              "    </tr>\n",
              "    <tr>\n",
              "      <th>9897</th>\n",
              "      <td>-1.470084</td>\n",
              "      <td>0.017444</td>\n",
              "      <td>0.163290</td>\n",
              "      <td>0.002702</td>\n",
              "      <td>-0.280218</td>\n",
              "      <td>0.227660</td>\n",
              "      <td>-0.193518</td>\n",
              "      <td>-0.012626</td>\n",
              "      <td>-0.536429</td>\n",
              "      <td>0.463888</td>\n",
              "      <td>-0.237604</td>\n",
              "      <td>0.192770</td>\n",
              "      <td>-0.683778</td>\n",
              "    </tr>\n",
              "  </tbody>\n",
              "</table>\n",
              "<p>9898 rows × 13 columns</p>\n",
              "</div>\n",
              "      <button class=\"colab-df-convert\" onclick=\"convertToInteractive('df-077f082d-6415-4a46-94e3-6e0b48f483a3')\"\n",
              "              title=\"Convert this dataframe to an interactive table.\"\n",
              "              style=\"display:none;\">\n",
              "        \n",
              "  <svg xmlns=\"http://www.w3.org/2000/svg\" height=\"24px\"viewBox=\"0 0 24 24\"\n",
              "       width=\"24px\">\n",
              "    <path d=\"M0 0h24v24H0V0z\" fill=\"none\"/>\n",
              "    <path d=\"M18.56 5.44l.94 2.06.94-2.06 2.06-.94-2.06-.94-.94-2.06-.94 2.06-2.06.94zm-11 1L8.5 8.5l.94-2.06 2.06-.94-2.06-.94L8.5 2.5l-.94 2.06-2.06.94zm10 10l.94 2.06.94-2.06 2.06-.94-2.06-.94-.94-2.06-.94 2.06-2.06.94z\"/><path d=\"M17.41 7.96l-1.37-1.37c-.4-.4-.92-.59-1.43-.59-.52 0-1.04.2-1.43.59L10.3 9.45l-7.72 7.72c-.78.78-.78 2.05 0 2.83L4 21.41c.39.39.9.59 1.41.59.51 0 1.02-.2 1.41-.59l7.78-7.78 2.81-2.81c.8-.78.8-2.07 0-2.86zM5.41 20L4 18.59l7.72-7.72 1.47 1.35L5.41 20z\"/>\n",
              "  </svg>\n",
              "      </button>\n",
              "      \n",
              "  <style>\n",
              "    .colab-df-container {\n",
              "      display:flex;\n",
              "      flex-wrap:wrap;\n",
              "      gap: 12px;\n",
              "    }\n",
              "\n",
              "    .colab-df-convert {\n",
              "      background-color: #E8F0FE;\n",
              "      border: none;\n",
              "      border-radius: 50%;\n",
              "      cursor: pointer;\n",
              "      display: none;\n",
              "      fill: #1967D2;\n",
              "      height: 32px;\n",
              "      padding: 0 0 0 0;\n",
              "      width: 32px;\n",
              "    }\n",
              "\n",
              "    .colab-df-convert:hover {\n",
              "      background-color: #E2EBFA;\n",
              "      box-shadow: 0px 1px 2px rgba(60, 64, 67, 0.3), 0px 1px 3px 1px rgba(60, 64, 67, 0.15);\n",
              "      fill: #174EA6;\n",
              "    }\n",
              "\n",
              "    [theme=dark] .colab-df-convert {\n",
              "      background-color: #3B4455;\n",
              "      fill: #D2E3FC;\n",
              "    }\n",
              "\n",
              "    [theme=dark] .colab-df-convert:hover {\n",
              "      background-color: #434B5C;\n",
              "      box-shadow: 0px 1px 3px 1px rgba(0, 0, 0, 0.15);\n",
              "      filter: drop-shadow(0px 1px 2px rgba(0, 0, 0, 0.3));\n",
              "      fill: #FFFFFF;\n",
              "    }\n",
              "  </style>\n",
              "\n",
              "      <script>\n",
              "        const buttonEl =\n",
              "          document.querySelector('#df-077f082d-6415-4a46-94e3-6e0b48f483a3 button.colab-df-convert');\n",
              "        buttonEl.style.display =\n",
              "          google.colab.kernel.accessAllowed ? 'block' : 'none';\n",
              "\n",
              "        async function convertToInteractive(key) {\n",
              "          const element = document.querySelector('#df-077f082d-6415-4a46-94e3-6e0b48f483a3');\n",
              "          const dataTable =\n",
              "            await google.colab.kernel.invokeFunction('convertToInteractive',\n",
              "                                                     [key], {});\n",
              "          if (!dataTable) return;\n",
              "\n",
              "          const docLinkHtml = 'Like what you see? Visit the ' +\n",
              "            '<a target=\"_blank\" href=https://colab.research.google.com/notebooks/data_table.ipynb>data table notebook</a>'\n",
              "            + ' to learn more about interactive tables.';\n",
              "          element.innerHTML = '';\n",
              "          dataTable['output_type'] = 'display_data';\n",
              "          await google.colab.output.renderOutput(dataTable, element);\n",
              "          const docLink = document.createElement('div');\n",
              "          docLink.innerHTML = docLinkHtml;\n",
              "          element.appendChild(docLink);\n",
              "        }\n",
              "      </script>\n",
              "    </div>\n",
              "  </div>\n",
              "  "
            ]
          },
          "metadata": {},
          "execution_count": 48
        }
      ]
    },
    {
      "cell_type": "markdown",
      "source": [
        "# Борьба с несбалансированностью классов"
      ],
      "metadata": {
        "id": "7SbpVndGyXu4"
      }
    },
    {
      "cell_type": "markdown",
      "source": [
        "Напомним, что классы распределены не очень однородно:"
      ],
      "metadata": {
        "id": "lE1q6dsjyZlA"
      }
    },
    {
      "cell_type": "code",
      "source": [
        "plt.pie(data_raw['OUTCOME'].value_counts(),\n",
        "        labels = [\"Not approved\", \"Approved\"],\n",
        "        colors = sns.color_palette(\"YlGn\"),\n",
        "        autopct = '%1.1f%%')\n",
        "print(f'Перед применением метода кол-во меток со значением \"Выплатили\": {sum(target == 0)}')\n",
        "print(f'Перед применением метода кол-во меток со значением \"Не выплатили\": {sum(target == 1)}')\n",
        "pass"
      ],
      "metadata": {
        "colab": {
          "base_uri": "https://localhost:8080/",
          "height": 283
        },
        "id": "-pbfxefysgHp",
        "outputId": "82a1fb60-4e39-4810-97b6-4449b3d5494a"
      },
      "execution_count": 49,
      "outputs": [
        {
          "output_type": "stream",
          "name": "stdout",
          "text": [
            "Перед применением метода кол-во меток со значением \"Выплатили\": 6782\n",
            "Перед применением метода кол-во меток со значением \"Не выплатили\": 3116\n"
          ]
        },
        {
          "output_type": "display_data",
          "data": {
            "text/plain": [
              "<Figure size 432x288 with 1 Axes>"
            ],
            "image/png": "[encoded data removed]"
          },
          "metadata": {}
        }
      ]
    },
    {
      "cell_type": "code",
      "source": [
        "from imblearn.under_sampling import NearMiss\n",
        "nm = NearMiss()\n",
        "X_miss, y_miss = nm.fit_resample(new_data, target.ravel())"
      ],
      "metadata": {
        "id": "ok888hjmy7jh"
      },
      "execution_count": 50,
      "outputs": []
    },
    {
      "cell_type": "code",
      "source": [
        "print(f'После применения метода кол-во меток со значением \"Не выплатили\": {sum(y_miss == 0)}')\n",
        "print(f'После применения метода кол-во меток со значением \"Выплатили\": {sum(y_miss == 1)}')"
      ],
      "metadata": {
        "colab": {
          "base_uri": "https://localhost:8080/"
        },
        "id": "qIfTpYpqzyx1",
        "outputId": "1f0e689e-9ede-4e7b-e666-c05d0e1252da"
      },
      "execution_count": 51,
      "outputs": [
        {
          "output_type": "stream",
          "name": "stdout",
          "text": [
            "После применения метода кол-во меток со значением \"Не выплатили\": 3116\n",
            "После применения метода кол-во меток со значением \"Выплатили\": 3116\n"
          ]
        }
      ]
    },
    {
      "cell_type": "code",
      "source": [
        "X_train, X_test, y_train, y_test = train_test_split(X_miss, y_miss, test_size = 0.1, random_state = 27)\n",
        "\n",
        "N_train, _ = X_train.shape \n",
        "N_test,  _ = X_test.shape \n",
        "\n",
        "N_train, N_test"
      ],
      "metadata": {
        "colab": {
          "base_uri": "https://localhost:8080/"
        },
        "id": "kAJqS7mD0v-G",
        "outputId": "def11e61-8a25-40da-d90b-9ab477c4d8e8"
      },
      "execution_count": 52,
      "outputs": [
        {
          "output_type": "execute_result",
          "data": {
            "text/plain": [
              "(5608, 624)"
            ]
          },
          "metadata": {},
          "execution_count": 52
        }
      ]
    },
    {
      "cell_type": "markdown",
      "source": [
        "## Метод k-ближайших соседей (kNN)"
      ],
      "metadata": {
        "id": "RcrYtWAW0wQe"
      }
    },
    {
      "cell_type": "code",
      "source": [
        "%%time\n",
        "grid = GridSearchCV(KNeighborsClassifier(), param_grid = {'n_neighbors': range(1, 28)})\n",
        "grid.fit(X_train, y_train)\n",
        "\n",
        "best_cv_err = 1 - grid.best_score_\n",
        "best_n_neighbors = grid.best_estimator_.n_neighbors\n",
        "\n",
        "print('Ошибка на кросс-валидации: ', best_cv_err)\n",
        "print('Оптимальное количество соседей: ', best_n_neighbors)"
      ],
      "metadata": {
        "colab": {
          "base_uri": "https://localhost:8080/"
        },
        "outputId": "9966b277-cef9-48ac-9a2a-673637feb180",
        "id": "S6uaEu2f0wQg"
      },
      "execution_count": 53,
      "outputs": [
        {
          "output_type": "stream",
          "name": "stdout",
          "text": [
            "Ошибка на кросс-валидации:  0.27692043486764584\n",
            "Оптимальное количество соседей:  17\n",
            "CPU times: user 14.6 s, sys: 176 ms, total: 14.8 s\n",
            "Wall time: 14.6 s\n"
          ]
        }
      ]
    },
    {
      "cell_type": "code",
      "source": [
        "%%time\n",
        "knn = KNeighborsClassifier()\n",
        "\n",
        "knn.set_params(n_neighbors = best_n_neighbors)\n",
        "knn.fit(X_train, y_train)\n",
        "\n",
        "err_train = np.mean(y_train != knn.predict(X_train))\n",
        "err_test  = np.mean(y_test  != knn.predict(X_test))\n",
        "acc_train = accuracy_score(y_true=y_train, y_pred=knn.predict(X_train))\n",
        "acc_test = accuracy_score(y_true=y_test, y_pred=knn.predict(X_test))\n",
        "\n",
        "print(f'''\n",
        "Точность на обучающей выборке: {acc_train}\n",
        "Точность на тестовой выборке: {acc_test}\n",
        "Ошибка на обучающей выборке: {err_train}\n",
        "Ошибка на тестовой выборке: {err_test}\n",
        "''')"
      ],
      "metadata": {
        "colab": {
          "base_uri": "https://localhost:8080/"
        },
        "outputId": "97e24f5f-8749-4a30-e297-21fabb619649",
        "id": "weJtvLva0wQh"
      },
      "execution_count": 54,
      "outputs": [
        {
          "output_type": "stream",
          "name": "stdout",
          "text": [
            "\n",
            "Точность на обучающей выборке: 0.7528530670470756\n",
            "Точность на тестовой выборке: 0.7035256410256411\n",
            "Ошибка на обучающей выборке: 0.2471469329529244\n",
            "Ошибка на тестовой выборке: 0.296474358974359\n",
            "\n",
            "CPU times: user 1.18 s, sys: 7.07 ms, total: 1.18 s\n",
            "Wall time: 1.18 s\n"
          ]
        }
      ]
    },
    {
      "cell_type": "markdown",
      "source": [
        "## SVC"
      ],
      "metadata": {
        "id": "wbXyKKV40wQi"
      }
    },
    {
      "cell_type": "code",
      "source": [
        "%%time\n",
        "svc = SVC(gamma = 'auto')\n",
        "svc.fit(X_train, y_train)\n",
        "\n",
        "err_train = np.mean(y_train != svc.predict(X_train))\n",
        "err_test  = np.mean(y_test  != svc.predict(X_test))\n",
        "acc_train = accuracy_score(y_true=y_train, y_pred=svc.predict(X_train))\n",
        "acc_test = accuracy_score(y_true=y_test, y_pred=svc.predict(X_test))\n",
        "\n",
        "print(f'''\n",
        "Ошибка на обучающей выборке: {err_train}\n",
        "Ошибка на тестовой выборке: {err_test}\n",
        "''')"
      ],
      "metadata": {
        "colab": {
          "base_uri": "https://localhost:8080/"
        },
        "outputId": "226922c9-74cf-4613-9234-f6767f0eaae3",
        "id": "LgJM2CWP0wQi"
      },
      "execution_count": 55,
      "outputs": [
        {
          "output_type": "stream",
          "name": "stdout",
          "text": [
            "\n",
            "Ошибка на обучающей выборке: 0.23769614835948644\n",
            "Ошибка на тестовой выборке: 0.2387820512820513\n",
            "\n",
            "CPU times: user 4.3 s, sys: 23.3 ms, total: 4.32 s\n",
            "Wall time: 4.32 s\n"
          ]
        }
      ]
    },
    {
      "cell_type": "markdown",
      "source": [
        "## Random Forest"
      ],
      "metadata": {
        "id": "WGuarR8E0wQj"
      }
    },
    {
      "cell_type": "code",
      "source": [
        "%%time\n",
        "rf = ensemble.RandomForestClassifier(n_estimators = 100)\n",
        "rf.fit(X_train, y_train)\n",
        "\n",
        "err_train = np.mean(y_train != rf.predict(X_train))\n",
        "err_test  = np.mean(y_test  != rf.predict(X_test))\n",
        "acc_train = accuracy_score(y_true=y_train, y_pred=rf.predict(X_train))\n",
        "acc_test = accuracy_score(y_true=y_test, y_pred=rf.predict(X_test))\n",
        "\n",
        "print(f'''\n",
        "Ошибка на обучающей выборке: {err_train}\n",
        "Ошибка на тестовой выборке: {err_test}\n",
        "''')"
      ],
      "metadata": {
        "colab": {
          "base_uri": "https://localhost:8080/"
        },
        "outputId": "d8f2988e-21b7-4859-e161-3b3699e33d54",
        "id": "4qhVB0S10wQj"
      },
      "execution_count": 56,
      "outputs": [
        {
          "output_type": "stream",
          "name": "stdout",
          "text": [
            "\n",
            "Ошибка на обучающей выборке: 0.0007132667617689016\n",
            "Ошибка на тестовой выборке: 0.27564102564102566\n",
            "\n",
            "CPU times: user 2.1 s, sys: 22.6 ms, total: 2.12 s\n",
            "Wall time: 2.12 s\n"
          ]
        }
      ]
    },
    {
      "cell_type": "markdown",
      "source": [
        "## Extremely Randomized Trees"
      ],
      "metadata": {
        "id": "xenZ2aXr0wQk"
      }
    },
    {
      "cell_type": "code",
      "source": [
        "%%time\n",
        "ert = ensemble.ExtraTreesClassifier(n_estimators = 100).fit(X_train, y_train)\n",
        "\n",
        "err_train = np.mean(y_train != ert.predict(X_train))\n",
        "err_test  = np.mean(y_test  != ert.predict(X_test))\n",
        "acc_train = accuracy_score(y_true=y_train, y_pred=ert.predict(X_train))\n",
        "acc_test = accuracy_score(y_true=y_test, y_pred=ert.predict(X_test))\n",
        "\n",
        "print(f'''\n",
        "Ошибка на обучающей выборке: {err_train}\n",
        "Ошибка на тестовой выборке: {err_test}\n",
        "''')"
      ],
      "metadata": {
        "colab": {
          "base_uri": "https://localhost:8080/"
        },
        "outputId": "f20bbf18-6962-4618-8886-069cee8589ac",
        "id": "gL1fn7pO0wQk"
      },
      "execution_count": 57,
      "outputs": [
        {
          "output_type": "stream",
          "name": "stdout",
          "text": [
            "\n",
            "Ошибка на обучающей выборке: 0.0007132667617689016\n",
            "Ошибка на тестовой выборке: 0.2932692307692308\n",
            "\n",
            "CPU times: user 1.06 s, sys: 5.65 ms, total: 1.07 s\n",
            "Wall time: 1.07 s\n"
          ]
        }
      ]
    },
    {
      "cell_type": "markdown",
      "source": [
        "## AdaBoost"
      ],
      "metadata": {
        "id": "1spXNHfw0wQk"
      }
    },
    {
      "cell_type": "code",
      "source": [
        "%%time\n",
        "ada = ensemble.AdaBoostClassifier(n_estimators = 100)\n",
        "ada.fit(X_train, y_train)\n",
        "\n",
        "err_train = np.mean(y_train != ada.predict(X_train))\n",
        "err_test  = np.mean(y_test  != ada.predict(X_test))\n",
        "acc_train = accuracy_score(y_true=y_train, y_pred=ada.predict(X_train))\n",
        "acc_test = accuracy_score(y_true=y_test, y_pred=ada.predict(X_test))\n",
        "\n",
        "print(f'''\n",
        "Ошибка на обучающей выборке: {err_train}\n",
        "Ошибка на тестовой выборке: {err_test}\n",
        "''')"
      ],
      "metadata": {
        "colab": {
          "base_uri": "https://localhost:8080/"
        },
        "outputId": "4845294f-d11e-4b70-c14d-defb5d9c4bd7",
        "id": "foEHT5HM0wQl"
      },
      "execution_count": 58,
      "outputs": [
        {
          "output_type": "stream",
          "name": "stdout",
          "text": [
            "\n",
            "Ошибка на обучающей выборке: 0.2346647646219686\n",
            "Ошибка на тестовой выборке: 0.27403846153846156\n",
            "\n",
            "CPU times: user 1.7 s, sys: 7.32 ms, total: 1.71 s\n",
            "Wall time: 1.72 s\n"
          ]
        }
      ]
    },
    {
      "cell_type": "markdown",
      "source": [
        "## GBT"
      ],
      "metadata": {
        "id": "AbD5l5ui0wQl"
      }
    },
    {
      "cell_type": "code",
      "source": [
        "%%time\n",
        "gbt = ensemble.GradientBoostingClassifier(n_estimators = 100)\n",
        "gbt.fit(X_train, y_train)\n",
        "\n",
        "err_train = np.mean(y_train != gbt.predict(X_train))\n",
        "err_test  = np.mean(y_test  != gbt.predict(X_test))\n",
        "acc_train = accuracy_score(y_true=y_train, y_pred=gbt.predict(X_train))\n",
        "acc_test = accuracy_score(y_true=y_test, y_pred=gbt.predict(X_test))\n",
        "\n",
        "print(f'''\n",
        "Ошибка на обучающей выборке: {err_train}\n",
        "Ошибка на тестовой выборке: {err_test}\n",
        "''')"
      ],
      "metadata": {
        "colab": {
          "base_uri": "https://localhost:8080/"
        },
        "outputId": "5aa64a45-4c2e-4d66-e79b-001c2c625bbe",
        "id": "5RKKxG_B0wQl"
      },
      "execution_count": 59,
      "outputs": [
        {
          "output_type": "stream",
          "name": "stdout",
          "text": [
            "\n",
            "Ошибка на обучающей выборке: 0.19900142653352354\n",
            "Ошибка на тестовой выборке: 0.2564102564102564\n",
            "\n",
            "CPU times: user 2.78 s, sys: 6.94 ms, total: 2.78 s\n",
            "Wall time: 2.8 s\n"
          ]
        }
      ]
    },
    {
      "cell_type": "markdown",
      "source": [
        "## Выводы о классификации после балансировки data, над которой поработали **PCA**"
      ],
      "metadata": {
        "id": "j8jwZH7f2yS8"
      }
    },
    {
      "cell_type": "markdown",
      "source": [
        "*  **PCA** сделал свое дело и некоторые алгоритмы работают кратно быстрее.\n",
        "*  Балансировка оказала плохое влияние на ошибку во всех рассматриваемых алгоритмах. Ниже приведена таблица:\n",
        "![1E3u_3SpBZA.jpg](data:image/jpeg;base64,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)"
      ],
      "metadata": {
        "id": "nHD3Rx6mowBt"
      }
    },
    {
      "cell_type": "markdown",
      "source": [
        "# Общие выводы"
      ],
      "metadata": {
        "id": "zUs24xrCsnjJ"
      }
    },
    {
      "cell_type": "markdown",
      "source": [
        "* Метод `kNN (25)` на начальной выборке показал себя хуже относительно остальных алгоритмов и выдал ошибку аж в *~19%* . \n",
        "* Наилучшее предсказание на начальной выборке получилось у `GBT`, ошибка в *~15.9%*.\n",
        "* На конечной выборке (**сбалансированной и PCA обработанной**) итоговые ошибки больше чем на начальной выборке для всех классификаторов. То есть балансировка не то, что бы помогла, а наоборот всё попортила.\n",
        "* Для конечной выборки поменялись лидеры. Так самую маленькую ошибку в *~23.8%* показал `SVC`. Самую большую (*~29.6%*) показал тот же `kNN`, а также `Extremely Randomized Trees`.\n",
        "* **PCA** кратно уменьшил общее время обучения классификаторов (почти всех), но так как датасет объемом мал, то это не имеет смысла, так как обучение происходит относительно быстро."
      ],
      "metadata": {
        "id": "MdBChPRvuNeD"
      }
    }
  ],
  "metadata": {
    "colab": {
      "collapsed_sections": [],
      "provenance": []
    },
    "kernelspec": {
      "display_name": "Python 3",
      "name": "python3"
    },
    "language_info": {
      "name": "python"
    }
  },
  "nbformat": 4,
  "nbformat_minor": 0
}